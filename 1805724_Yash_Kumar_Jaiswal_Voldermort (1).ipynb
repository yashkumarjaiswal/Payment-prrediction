{
 "cells": [
  {
   "cell_type": "markdown",
   "metadata": {},
   "source": [
    "# Name : Yash kumar Jaiswal"
   ]
  },
  {
   "cell_type": "markdown",
   "metadata": {},
   "source": [
    "# Roll No : 1805724"
   ]
  },
  {
   "cell_type": "markdown",
   "metadata": {},
   "source": [
    "# House : Voldermort"
   ]
  },
  {
   "cell_type": "markdown",
   "metadata": {},
   "source": [
    "**Importing libraries which we want to use**"
   ]
  },
  {
   "cell_type": "code",
   "execution_count": 1,
   "metadata": {
    "colab": {},
    "colab_type": "code",
    "id": "PJL1SUVjtj8V"
   },
   "outputs": [],
   "source": [
    "import pandas as pd\n",
    "import numpy as np\n",
    "from sklearn.model_selection import train_test_split\n",
    "from sklearn.feature_selection import VarianceThreshold   \n",
    "import seaborn as sns\n",
    "from sklearn import preprocessing \n",
    "import warnings\n",
    "warnings.filterwarnings(action=\"ignore\")\n",
    "import matplotlib.pyplot as plt"
   ]
  },
  {
   "cell_type": "markdown",
   "metadata": {},
   "source": [
    "**Loading dataset**"
   ]
  },
  {
   "cell_type": "code",
   "execution_count": 2,
   "metadata": {
    "colab": {},
    "colab_type": "code",
    "id": "f6NqudJyxMhf"
   },
   "outputs": [],
   "source": [
    "dataframe = pd.read_csv(r'C:\\Users\\KIIT\\Downloads\\1805724 (3).csv')"
   ]
  },
  {
   "cell_type": "markdown",
   "metadata": {},
   "source": [
    "**Checking the dimensions of the dataset.**"
   ]
  },
  {
   "cell_type": "code",
   "execution_count": 3,
   "metadata": {
    "colab": {
     "base_uri": "https://localhost:8080/",
     "height": 35
    },
    "colab_type": "code",
    "executionInfo": {
     "elapsed": 1630,
     "status": "ok",
     "timestamp": 1593280125861,
     "user": {
      "displayName": "Cyrus Singh",
      "photoUrl": "https://lh3.googleusercontent.com/a-/AOh14GjyOrs3eHCD5JA7111cv9PUpiyRJFvgzPW3uUnV=s64",
      "userId": "07180323017413010635"
     },
     "user_tz": -330
    },
    "id": "OMYU13gu38K8",
    "outputId": "619cbbd1-e091-4062-d0d3-4612c026bf1f"
   },
   "outputs": [
    {
     "data": {
      "text/plain": [
       "(50000, 19)"
      ]
     },
     "execution_count": 3,
     "metadata": {},
     "output_type": "execute_result"
    }
   ],
   "source": [
    "dataframe.shape"
   ]
  },
  {
   "cell_type": "markdown",
   "metadata": {},
   "source": [
    "**Checking the info about the columns of the dataset.**"
   ]
  },
  {
   "cell_type": "code",
   "execution_count": 4,
   "metadata": {},
   "outputs": [
    {
     "name": "stdout",
     "output_type": "stream",
     "text": [
      "<class 'pandas.core.frame.DataFrame'>\n",
      "RangeIndex: 50000 entries, 0 to 49999\n",
      "Data columns (total 19 columns):\n",
      " #   Column                  Non-Null Count  Dtype  \n",
      "---  ------                  --------------  -----  \n",
      " 0   business_code           50000 non-null  object \n",
      " 1   cust_number             50000 non-null  object \n",
      " 2   name_customer           50000 non-null  object \n",
      " 3   clear_date              46412 non-null  object \n",
      " 4   buisness_year           50000 non-null  float64\n",
      " 5   doc_id                  50000 non-null  float64\n",
      " 6   posting_date            50000 non-null  object \n",
      " 7   document_create_date    50000 non-null  int64  \n",
      " 8   document_create_date.1  50000 non-null  int64  \n",
      " 9   due_in_date             50000 non-null  float64\n",
      " 10  invoice_currency        50000 non-null  object \n",
      " 11  document type           50000 non-null  object \n",
      " 12  posting_id              50000 non-null  float64\n",
      " 13  area_business           0 non-null      float64\n",
      " 14  total_open_amount       50000 non-null  float64\n",
      " 15  baseline_create_date    50000 non-null  float64\n",
      " 16  cust_payment_terms      50000 non-null  object \n",
      " 17  invoice_id              49993 non-null  float64\n",
      " 18  isOpen                  50000 non-null  int64  \n",
      "dtypes: float64(8), int64(3), object(8)\n",
      "memory usage: 7.2+ MB\n"
     ]
    }
   ],
   "source": [
    "dataframe.info()"
   ]
  },
  {
   "cell_type": "markdown",
   "metadata": {},
   "source": [
    "**Finding columns with null values.**"
   ]
  },
  {
   "cell_type": "code",
   "execution_count": 5,
   "metadata": {},
   "outputs": [
    {
     "data": {
      "text/plain": [
       "['clear_date', 'area_business', 'invoice_id']"
      ]
     },
     "execution_count": 5,
     "metadata": {},
     "output_type": "execute_result"
    }
   ],
   "source": [
    "[col for col in dataframe.columns if dataframe[col].isnull().sum()>0]"
   ]
  },
  {
   "cell_type": "code",
   "execution_count": 6,
   "metadata": {},
   "outputs": [
    {
     "data": {
      "text/html": [
       "<div>\n",
       "<style scoped>\n",
       "    .dataframe tbody tr th:only-of-type {\n",
       "        vertical-align: middle;\n",
       "    }\n",
       "\n",
       "    .dataframe tbody tr th {\n",
       "        vertical-align: top;\n",
       "    }\n",
       "\n",
       "    .dataframe thead th {\n",
       "        text-align: right;\n",
       "    }\n",
       "</style>\n",
       "<table border=\"1\" class=\"dataframe\">\n",
       "  <thead>\n",
       "    <tr style=\"text-align: right;\">\n",
       "      <th></th>\n",
       "      <th>business_code</th>\n",
       "      <th>cust_number</th>\n",
       "      <th>name_customer</th>\n",
       "      <th>clear_date</th>\n",
       "      <th>buisness_year</th>\n",
       "      <th>doc_id</th>\n",
       "      <th>posting_date</th>\n",
       "      <th>document_create_date</th>\n",
       "      <th>document_create_date.1</th>\n",
       "      <th>due_in_date</th>\n",
       "      <th>invoice_currency</th>\n",
       "      <th>document type</th>\n",
       "      <th>posting_id</th>\n",
       "      <th>area_business</th>\n",
       "      <th>total_open_amount</th>\n",
       "      <th>baseline_create_date</th>\n",
       "      <th>cust_payment_terms</th>\n",
       "      <th>invoice_id</th>\n",
       "      <th>isOpen</th>\n",
       "    </tr>\n",
       "  </thead>\n",
       "  <tbody>\n",
       "    <tr>\n",
       "      <th>0</th>\n",
       "      <td>U001</td>\n",
       "      <td>0200705742</td>\n",
       "      <td>DOT us</td>\n",
       "      <td>2019-03-19 00:00:00</td>\n",
       "      <td>2019.0</td>\n",
       "      <td>1.928891e+09</td>\n",
       "      <td>2019-03-04</td>\n",
       "      <td>20190302</td>\n",
       "      <td>20190304</td>\n",
       "      <td>20190319.0</td>\n",
       "      <td>USD</td>\n",
       "      <td>RV</td>\n",
       "      <td>1.0</td>\n",
       "      <td>NaN</td>\n",
       "      <td>4367.76</td>\n",
       "      <td>20190304.0</td>\n",
       "      <td>NAA8</td>\n",
       "      <td>1.928891e+09</td>\n",
       "      <td>0</td>\n",
       "    </tr>\n",
       "    <tr>\n",
       "      <th>1</th>\n",
       "      <td>U001</td>\n",
       "      <td>0200744019</td>\n",
       "      <td>TARG us</td>\n",
       "      <td>2019-10-30 00:00:00</td>\n",
       "      <td>2019.0</td>\n",
       "      <td>1.929752e+09</td>\n",
       "      <td>2019-08-16</td>\n",
       "      <td>20190815</td>\n",
       "      <td>20190816</td>\n",
       "      <td>20191030.0</td>\n",
       "      <td>USD</td>\n",
       "      <td>RV</td>\n",
       "      <td>1.0</td>\n",
       "      <td>NaN</td>\n",
       "      <td>370.18</td>\n",
       "      <td>20190816.0</td>\n",
       "      <td>NAWN</td>\n",
       "      <td>1.929752e+09</td>\n",
       "      <td>0</td>\n",
       "    </tr>\n",
       "    <tr>\n",
       "      <th>2</th>\n",
       "      <td>U001</td>\n",
       "      <td>0200769623</td>\n",
       "      <td>WAL-MAR us</td>\n",
       "      <td>2019-01-22 00:00:00</td>\n",
       "      <td>2019.0</td>\n",
       "      <td>1.928594e+09</td>\n",
       "      <td>2019-01-08</td>\n",
       "      <td>20190109</td>\n",
       "      <td>20190108</td>\n",
       "      <td>20190123.0</td>\n",
       "      <td>USD</td>\n",
       "      <td>RV</td>\n",
       "      <td>1.0</td>\n",
       "      <td>NaN</td>\n",
       "      <td>1696.54</td>\n",
       "      <td>20190108.0</td>\n",
       "      <td>NAH4</td>\n",
       "      <td>1.928594e+09</td>\n",
       "      <td>0</td>\n",
       "    </tr>\n",
       "    <tr>\n",
       "      <th>3</th>\n",
       "      <td>U001</td>\n",
       "      <td>0200794332</td>\n",
       "      <td>COST in</td>\n",
       "      <td>2019-04-18 00:00:00</td>\n",
       "      <td>2019.0</td>\n",
       "      <td>1.929076e+09</td>\n",
       "      <td>2019-04-04</td>\n",
       "      <td>20190403</td>\n",
       "      <td>20190404</td>\n",
       "      <td>20190419.0</td>\n",
       "      <td>USD</td>\n",
       "      <td>RV</td>\n",
       "      <td>1.0</td>\n",
       "      <td>NaN</td>\n",
       "      <td>118367.97</td>\n",
       "      <td>20190404.0</td>\n",
       "      <td>NAAX</td>\n",
       "      <td>1.929076e+09</td>\n",
       "      <td>0</td>\n",
       "    </tr>\n",
       "    <tr>\n",
       "      <th>4</th>\n",
       "      <td>U001</td>\n",
       "      <td>0200974851</td>\n",
       "      <td>RESTA foundation</td>\n",
       "      <td>2019-04-03 00:00:00</td>\n",
       "      <td>2019.0</td>\n",
       "      <td>1.928964e+09</td>\n",
       "      <td>2019-03-14</td>\n",
       "      <td>20190314</td>\n",
       "      <td>20190314</td>\n",
       "      <td>20190403.0</td>\n",
       "      <td>USD</td>\n",
       "      <td>RV</td>\n",
       "      <td>1.0</td>\n",
       "      <td>NaN</td>\n",
       "      <td>344.18</td>\n",
       "      <td>20190314.0</td>\n",
       "      <td>NAD1</td>\n",
       "      <td>1.928964e+09</td>\n",
       "      <td>0</td>\n",
       "    </tr>\n",
       "    <tr>\n",
       "      <th>...</th>\n",
       "      <td>...</td>\n",
       "      <td>...</td>\n",
       "      <td>...</td>\n",
       "      <td>...</td>\n",
       "      <td>...</td>\n",
       "      <td>...</td>\n",
       "      <td>...</td>\n",
       "      <td>...</td>\n",
       "      <td>...</td>\n",
       "      <td>...</td>\n",
       "      <td>...</td>\n",
       "      <td>...</td>\n",
       "      <td>...</td>\n",
       "      <td>...</td>\n",
       "      <td>...</td>\n",
       "      <td>...</td>\n",
       "      <td>...</td>\n",
       "      <td>...</td>\n",
       "      <td>...</td>\n",
       "    </tr>\n",
       "    <tr>\n",
       "      <th>49995</th>\n",
       "      <td>CA02</td>\n",
       "      <td>0140106372</td>\n",
       "      <td>G T  trust</td>\n",
       "      <td>NaN</td>\n",
       "      <td>2020.0</td>\n",
       "      <td>2.960633e+09</td>\n",
       "      <td>2020-05-05</td>\n",
       "      <td>20200505</td>\n",
       "      <td>20200505</td>\n",
       "      <td>20200517.0</td>\n",
       "      <td>CAD</td>\n",
       "      <td>RV</td>\n",
       "      <td>1.0</td>\n",
       "      <td>NaN</td>\n",
       "      <td>72705.60</td>\n",
       "      <td>20200507.0</td>\n",
       "      <td>CA10</td>\n",
       "      <td>2.960633e+09</td>\n",
       "      <td>1</td>\n",
       "    </tr>\n",
       "    <tr>\n",
       "      <th>49996</th>\n",
       "      <td>U001</td>\n",
       "      <td>0200737918</td>\n",
       "      <td>W LEE  llc</td>\n",
       "      <td>NaN</td>\n",
       "      <td>2020.0</td>\n",
       "      <td>1.930633e+09</td>\n",
       "      <td>2020-03-12</td>\n",
       "      <td>20200310</td>\n",
       "      <td>20200312</td>\n",
       "      <td>20200327.0</td>\n",
       "      <td>USD</td>\n",
       "      <td>RV</td>\n",
       "      <td>1.0</td>\n",
       "      <td>NaN</td>\n",
       "      <td>31652.84</td>\n",
       "      <td>20200312.0</td>\n",
       "      <td>NAA8</td>\n",
       "      <td>1.930633e+09</td>\n",
       "      <td>1</td>\n",
       "    </tr>\n",
       "    <tr>\n",
       "      <th>49997</th>\n",
       "      <td>U001</td>\n",
       "      <td>0200353024</td>\n",
       "      <td>DECA associates</td>\n",
       "      <td>NaN</td>\n",
       "      <td>2020.0</td>\n",
       "      <td>1.930690e+09</td>\n",
       "      <td>2020-03-24</td>\n",
       "      <td>20200324</td>\n",
       "      <td>20200324</td>\n",
       "      <td>20200408.0</td>\n",
       "      <td>USD</td>\n",
       "      <td>RV</td>\n",
       "      <td>1.0</td>\n",
       "      <td>NaN</td>\n",
       "      <td>645.24</td>\n",
       "      <td>20200316.0</td>\n",
       "      <td>NAM4</td>\n",
       "      <td>1.930690e+09</td>\n",
       "      <td>1</td>\n",
       "    </tr>\n",
       "    <tr>\n",
       "      <th>49998</th>\n",
       "      <td>U001</td>\n",
       "      <td>0200974851</td>\n",
       "      <td>RESTA llc</td>\n",
       "      <td>NaN</td>\n",
       "      <td>2020.0</td>\n",
       "      <td>1.930795e+09</td>\n",
       "      <td>2020-04-16</td>\n",
       "      <td>20200416</td>\n",
       "      <td>20200416</td>\n",
       "      <td>20200506.0</td>\n",
       "      <td>USD</td>\n",
       "      <td>RV</td>\n",
       "      <td>1.0</td>\n",
       "      <td>NaN</td>\n",
       "      <td>219.73</td>\n",
       "      <td>20200416.0</td>\n",
       "      <td>NAD1</td>\n",
       "      <td>1.930795e+09</td>\n",
       "      <td>1</td>\n",
       "    </tr>\n",
       "    <tr>\n",
       "      <th>49999</th>\n",
       "      <td>U001</td>\n",
       "      <td>0200769623</td>\n",
       "      <td>WAL-MAR corp</td>\n",
       "      <td>NaN</td>\n",
       "      <td>2020.0</td>\n",
       "      <td>1.930874e+09</td>\n",
       "      <td>2020-05-08</td>\n",
       "      <td>20200507</td>\n",
       "      <td>20200508</td>\n",
       "      <td>20200523.0</td>\n",
       "      <td>USD</td>\n",
       "      <td>RV</td>\n",
       "      <td>1.0</td>\n",
       "      <td>NaN</td>\n",
       "      <td>4332.64</td>\n",
       "      <td>20200508.0</td>\n",
       "      <td>NAH4</td>\n",
       "      <td>1.930874e+09</td>\n",
       "      <td>1</td>\n",
       "    </tr>\n",
       "  </tbody>\n",
       "</table>\n",
       "<p>50000 rows × 19 columns</p>\n",
       "</div>"
      ],
      "text/plain": [
       "      business_code cust_number     name_customer           clear_date  \\\n",
       "0              U001  0200705742            DOT us  2019-03-19 00:00:00   \n",
       "1              U001  0200744019           TARG us  2019-10-30 00:00:00   \n",
       "2              U001  0200769623        WAL-MAR us  2019-01-22 00:00:00   \n",
       "3              U001  0200794332           COST in  2019-04-18 00:00:00   \n",
       "4              U001  0200974851  RESTA foundation  2019-04-03 00:00:00   \n",
       "...             ...         ...               ...                  ...   \n",
       "49995          CA02  0140106372        G T  trust                  NaN   \n",
       "49996          U001  0200737918        W LEE  llc                  NaN   \n",
       "49997          U001  0200353024   DECA associates                  NaN   \n",
       "49998          U001  0200974851         RESTA llc                  NaN   \n",
       "49999          U001  0200769623      WAL-MAR corp                  NaN   \n",
       "\n",
       "       buisness_year        doc_id posting_date  document_create_date  \\\n",
       "0             2019.0  1.928891e+09   2019-03-04              20190302   \n",
       "1             2019.0  1.929752e+09   2019-08-16              20190815   \n",
       "2             2019.0  1.928594e+09   2019-01-08              20190109   \n",
       "3             2019.0  1.929076e+09   2019-04-04              20190403   \n",
       "4             2019.0  1.928964e+09   2019-03-14              20190314   \n",
       "...              ...           ...          ...                   ...   \n",
       "49995         2020.0  2.960633e+09   2020-05-05              20200505   \n",
       "49996         2020.0  1.930633e+09   2020-03-12              20200310   \n",
       "49997         2020.0  1.930690e+09   2020-03-24              20200324   \n",
       "49998         2020.0  1.930795e+09   2020-04-16              20200416   \n",
       "49999         2020.0  1.930874e+09   2020-05-08              20200507   \n",
       "\n",
       "       document_create_date.1  due_in_date invoice_currency document type  \\\n",
       "0                    20190304   20190319.0              USD            RV   \n",
       "1                    20190816   20191030.0              USD            RV   \n",
       "2                    20190108   20190123.0              USD            RV   \n",
       "3                    20190404   20190419.0              USD            RV   \n",
       "4                    20190314   20190403.0              USD            RV   \n",
       "...                       ...          ...              ...           ...   \n",
       "49995                20200505   20200517.0              CAD            RV   \n",
       "49996                20200312   20200327.0              USD            RV   \n",
       "49997                20200324   20200408.0              USD            RV   \n",
       "49998                20200416   20200506.0              USD            RV   \n",
       "49999                20200508   20200523.0              USD            RV   \n",
       "\n",
       "       posting_id  area_business  total_open_amount  baseline_create_date  \\\n",
       "0             1.0            NaN            4367.76            20190304.0   \n",
       "1             1.0            NaN             370.18            20190816.0   \n",
       "2             1.0            NaN            1696.54            20190108.0   \n",
       "3             1.0            NaN          118367.97            20190404.0   \n",
       "4             1.0            NaN             344.18            20190314.0   \n",
       "...           ...            ...                ...                   ...   \n",
       "49995         1.0            NaN           72705.60            20200507.0   \n",
       "49996         1.0            NaN           31652.84            20200312.0   \n",
       "49997         1.0            NaN             645.24            20200316.0   \n",
       "49998         1.0            NaN             219.73            20200416.0   \n",
       "49999         1.0            NaN            4332.64            20200508.0   \n",
       "\n",
       "      cust_payment_terms    invoice_id  isOpen  \n",
       "0                   NAA8  1.928891e+09       0  \n",
       "1                   NAWN  1.929752e+09       0  \n",
       "2                   NAH4  1.928594e+09       0  \n",
       "3                   NAAX  1.929076e+09       0  \n",
       "4                   NAD1  1.928964e+09       0  \n",
       "...                  ...           ...     ...  \n",
       "49995               CA10  2.960633e+09       1  \n",
       "49996               NAA8  1.930633e+09       1  \n",
       "49997               NAM4  1.930690e+09       1  \n",
       "49998               NAD1  1.930795e+09       1  \n",
       "49999               NAH4  1.930874e+09       1  \n",
       "\n",
       "[50000 rows x 19 columns]"
      ]
     },
     "execution_count": 6,
     "metadata": {},
     "output_type": "execute_result"
    }
   ],
   "source": [
    "dataframe"
   ]
  },
  {
   "cell_type": "markdown",
   "metadata": {},
   "source": [
    "**Finding the rows of area_business that contains null values.**"
   ]
  },
  {
   "cell_type": "code",
   "execution_count": 7,
   "metadata": {},
   "outputs": [
    {
     "data": {
      "text/plain": [
       "(50000, 19)"
      ]
     },
     "execution_count": 7,
     "metadata": {},
     "output_type": "execute_result"
    }
   ],
   "source": [
    "dataframe[dataframe['area_business'].isnull()].shape"
   ]
  },
  {
   "cell_type": "markdown",
   "metadata": {},
   "source": [
    "**As area_buisness contains only null values we will drop this columns as it will not provide us with any new information.**"
   ]
  },
  {
   "cell_type": "code",
   "execution_count": 8,
   "metadata": {},
   "outputs": [],
   "source": [
    "dataframe.drop(['area_business'],axis = 1,inplace=True)"
   ]
  },
  {
   "cell_type": "markdown",
   "metadata": {},
   "source": [
    "**Finding rows in invoice id which are null.**"
   ]
  },
  {
   "cell_type": "code",
   "execution_count": 9,
   "metadata": {},
   "outputs": [
    {
     "data": {
      "text/html": [
       "<div>\n",
       "<style scoped>\n",
       "    .dataframe tbody tr th:only-of-type {\n",
       "        vertical-align: middle;\n",
       "    }\n",
       "\n",
       "    .dataframe tbody tr th {\n",
       "        vertical-align: top;\n",
       "    }\n",
       "\n",
       "    .dataframe thead th {\n",
       "        text-align: right;\n",
       "    }\n",
       "</style>\n",
       "<table border=\"1\" class=\"dataframe\">\n",
       "  <thead>\n",
       "    <tr style=\"text-align: right;\">\n",
       "      <th></th>\n",
       "      <th>business_code</th>\n",
       "      <th>cust_number</th>\n",
       "      <th>name_customer</th>\n",
       "      <th>clear_date</th>\n",
       "      <th>buisness_year</th>\n",
       "      <th>doc_id</th>\n",
       "      <th>posting_date</th>\n",
       "      <th>document_create_date</th>\n",
       "      <th>document_create_date.1</th>\n",
       "      <th>due_in_date</th>\n",
       "      <th>invoice_currency</th>\n",
       "      <th>document type</th>\n",
       "      <th>posting_id</th>\n",
       "      <th>total_open_amount</th>\n",
       "      <th>baseline_create_date</th>\n",
       "      <th>cust_payment_terms</th>\n",
       "      <th>invoice_id</th>\n",
       "      <th>isOpen</th>\n",
       "    </tr>\n",
       "  </thead>\n",
       "  <tbody>\n",
       "    <tr>\n",
       "      <th>682</th>\n",
       "      <td>CA02</td>\n",
       "      <td>0140104225</td>\n",
       "      <td>SAVE-ON-</td>\n",
       "      <td>2019-05-08 00:00:00</td>\n",
       "      <td>2019.0</td>\n",
       "      <td>9.500000e+09</td>\n",
       "      <td>2019-03-29</td>\n",
       "      <td>20190329</td>\n",
       "      <td>20190221</td>\n",
       "      <td>20190303.0</td>\n",
       "      <td>CAD</td>\n",
       "      <td>X2</td>\n",
       "      <td>1.0</td>\n",
       "      <td>4065.13</td>\n",
       "      <td>20190221.0</td>\n",
       "      <td>CA10</td>\n",
       "      <td>NaN</td>\n",
       "      <td>0</td>\n",
       "    </tr>\n",
       "    <tr>\n",
       "      <th>2992</th>\n",
       "      <td>CA02</td>\n",
       "      <td>0140104429</td>\n",
       "      <td>COSTCO co</td>\n",
       "      <td>2019-05-22 00:00:00</td>\n",
       "      <td>2019.0</td>\n",
       "      <td>9.500000e+09</td>\n",
       "      <td>2019-03-29</td>\n",
       "      <td>20190329</td>\n",
       "      <td>20190322</td>\n",
       "      <td>20190401.0</td>\n",
       "      <td>CAD</td>\n",
       "      <td>X2</td>\n",
       "      <td>1.0</td>\n",
       "      <td>5353.20</td>\n",
       "      <td>20190322.0</td>\n",
       "      <td>CA10</td>\n",
       "      <td>NaN</td>\n",
       "      <td>0</td>\n",
       "    </tr>\n",
       "    <tr>\n",
       "      <th>14477</th>\n",
       "      <td>CA02</td>\n",
       "      <td>0100030194</td>\n",
       "      <td>AMAZO in</td>\n",
       "      <td>2019-12-27 00:00:00</td>\n",
       "      <td>2019.0</td>\n",
       "      <td>9.500000e+09</td>\n",
       "      <td>2019-03-29</td>\n",
       "      <td>20190329</td>\n",
       "      <td>20190305</td>\n",
       "      <td>20190315.0</td>\n",
       "      <td>CAD</td>\n",
       "      <td>X2</td>\n",
       "      <td>1.0</td>\n",
       "      <td>753.25</td>\n",
       "      <td>20190305.0</td>\n",
       "      <td>CA10</td>\n",
       "      <td>NaN</td>\n",
       "      <td>0</td>\n",
       "    </tr>\n",
       "    <tr>\n",
       "      <th>15977</th>\n",
       "      <td>CA02</td>\n",
       "      <td>0140104225</td>\n",
       "      <td>SAVE-ON- in</td>\n",
       "      <td>2019-05-02 00:00:00</td>\n",
       "      <td>2019.0</td>\n",
       "      <td>9.500000e+09</td>\n",
       "      <td>2019-03-29</td>\n",
       "      <td>20190329</td>\n",
       "      <td>20190220</td>\n",
       "      <td>20190302.0</td>\n",
       "      <td>CAD</td>\n",
       "      <td>X2</td>\n",
       "      <td>1.0</td>\n",
       "      <td>3620.16</td>\n",
       "      <td>20190220.0</td>\n",
       "      <td>CA10</td>\n",
       "      <td>NaN</td>\n",
       "      <td>0</td>\n",
       "    </tr>\n",
       "    <tr>\n",
       "      <th>35382</th>\n",
       "      <td>CA02</td>\n",
       "      <td>0140104429</td>\n",
       "      <td>COSTCO systems</td>\n",
       "      <td>2019-05-14 00:00:00</td>\n",
       "      <td>2019.0</td>\n",
       "      <td>9.500000e+09</td>\n",
       "      <td>2019-03-29</td>\n",
       "      <td>20190329</td>\n",
       "      <td>20190311</td>\n",
       "      <td>20190321.0</td>\n",
       "      <td>CAD</td>\n",
       "      <td>X2</td>\n",
       "      <td>1.0</td>\n",
       "      <td>5353.20</td>\n",
       "      <td>20190311.0</td>\n",
       "      <td>CA10</td>\n",
       "      <td>NaN</td>\n",
       "      <td>0</td>\n",
       "    </tr>\n",
       "    <tr>\n",
       "      <th>36492</th>\n",
       "      <td>CA02</td>\n",
       "      <td>0140104223</td>\n",
       "      <td>H Y LO systems</td>\n",
       "      <td>2019-05-08 00:00:00</td>\n",
       "      <td>2019.0</td>\n",
       "      <td>9.500000e+09</td>\n",
       "      <td>2019-04-30</td>\n",
       "      <td>20190430</td>\n",
       "      <td>20190329</td>\n",
       "      <td>20190408.0</td>\n",
       "      <td>CAD</td>\n",
       "      <td>X2</td>\n",
       "      <td>1.0</td>\n",
       "      <td>44416.80</td>\n",
       "      <td>20190329.0</td>\n",
       "      <td>CA10</td>\n",
       "      <td>NaN</td>\n",
       "      <td>0</td>\n",
       "    </tr>\n",
       "    <tr>\n",
       "      <th>43868</th>\n",
       "      <td>CA02</td>\n",
       "      <td>0140104409</td>\n",
       "      <td>LOB corp</td>\n",
       "      <td>2019-12-27 00:00:00</td>\n",
       "      <td>2019.0</td>\n",
       "      <td>9.500000e+09</td>\n",
       "      <td>2019-03-29</td>\n",
       "      <td>20190329</td>\n",
       "      <td>20181204</td>\n",
       "      <td>20181214.0</td>\n",
       "      <td>CAD</td>\n",
       "      <td>X2</td>\n",
       "      <td>1.0</td>\n",
       "      <td>305.64</td>\n",
       "      <td>20181204.0</td>\n",
       "      <td>CA10</td>\n",
       "      <td>NaN</td>\n",
       "      <td>0</td>\n",
       "    </tr>\n",
       "  </tbody>\n",
       "</table>\n",
       "</div>"
      ],
      "text/plain": [
       "      business_code cust_number   name_customer           clear_date  \\\n",
       "682            CA02  0140104225       SAVE-ON-   2019-05-08 00:00:00   \n",
       "2992           CA02  0140104429       COSTCO co  2019-05-22 00:00:00   \n",
       "14477          CA02  0100030194        AMAZO in  2019-12-27 00:00:00   \n",
       "15977          CA02  0140104225     SAVE-ON- in  2019-05-02 00:00:00   \n",
       "35382          CA02  0140104429  COSTCO systems  2019-05-14 00:00:00   \n",
       "36492          CA02  0140104223  H Y LO systems  2019-05-08 00:00:00   \n",
       "43868          CA02  0140104409        LOB corp  2019-12-27 00:00:00   \n",
       "\n",
       "       buisness_year        doc_id posting_date  document_create_date  \\\n",
       "682           2019.0  9.500000e+09   2019-03-29              20190329   \n",
       "2992          2019.0  9.500000e+09   2019-03-29              20190329   \n",
       "14477         2019.0  9.500000e+09   2019-03-29              20190329   \n",
       "15977         2019.0  9.500000e+09   2019-03-29              20190329   \n",
       "35382         2019.0  9.500000e+09   2019-03-29              20190329   \n",
       "36492         2019.0  9.500000e+09   2019-04-30              20190430   \n",
       "43868         2019.0  9.500000e+09   2019-03-29              20190329   \n",
       "\n",
       "       document_create_date.1  due_in_date invoice_currency document type  \\\n",
       "682                  20190221   20190303.0              CAD            X2   \n",
       "2992                 20190322   20190401.0              CAD            X2   \n",
       "14477                20190305   20190315.0              CAD            X2   \n",
       "15977                20190220   20190302.0              CAD            X2   \n",
       "35382                20190311   20190321.0              CAD            X2   \n",
       "36492                20190329   20190408.0              CAD            X2   \n",
       "43868                20181204   20181214.0              CAD            X2   \n",
       "\n",
       "       posting_id  total_open_amount  baseline_create_date cust_payment_terms  \\\n",
       "682           1.0            4065.13            20190221.0               CA10   \n",
       "2992          1.0            5353.20            20190322.0               CA10   \n",
       "14477         1.0             753.25            20190305.0               CA10   \n",
       "15977         1.0            3620.16            20190220.0               CA10   \n",
       "35382         1.0            5353.20            20190311.0               CA10   \n",
       "36492         1.0           44416.80            20190329.0               CA10   \n",
       "43868         1.0             305.64            20181204.0               CA10   \n",
       "\n",
       "       invoice_id  isOpen  \n",
       "682           NaN       0  \n",
       "2992          NaN       0  \n",
       "14477         NaN       0  \n",
       "15977         NaN       0  \n",
       "35382         NaN       0  \n",
       "36492         NaN       0  \n",
       "43868         NaN       0  "
      ]
     },
     "execution_count": 9,
     "metadata": {},
     "output_type": "execute_result"
    }
   ],
   "source": [
    "dataframe[dataframe['invoice_id'].isnull()]"
   ]
  },
  {
   "cell_type": "markdown",
   "metadata": {},
   "source": [
    "**Dropping rows having null values in invoice id column as invoice id should be unique so column value with null value is of no use.**"
   ]
  },
  {
   "cell_type": "code",
   "execution_count": 10,
   "metadata": {},
   "outputs": [],
   "source": [
    "#dataframe.drop([11560,25147,27485],axis = 0,inplace = True)\n",
    "dataframe.drop(dataframe.loc[dataframe['invoice_id'].isnull()].index,inplace=True)"
   ]
  },
  {
   "cell_type": "markdown",
   "metadata": {},
   "source": [
    "**As invoice id is unique identifier so we will check if its unique for every value.**"
   ]
  },
  {
   "cell_type": "code",
   "execution_count": 11,
   "metadata": {},
   "outputs": [
    {
     "data": {
      "text/plain": [
       "49993"
      ]
     },
     "execution_count": 11,
     "metadata": {},
     "output_type": "execute_result"
    }
   ],
   "source": [
    "dataframe['invoice_id'].nunique()"
   ]
  },
  {
   "cell_type": "markdown",
   "metadata": {},
   "source": [
    "**As the count of unique value of invoice id is equals to the rows left in the datframe so this shows each every value is unique.**"
   ]
  },
  {
   "cell_type": "markdown",
   "metadata": {},
   "source": [
    "**Dropping document_create_date as we have document_create_date.1 as a normalised date.**"
   ]
  },
  {
   "cell_type": "code",
   "execution_count": 12,
   "metadata": {},
   "outputs": [],
   "source": [
    "dataframe.drop('document_create_date',axis=1,inplace=True)"
   ]
  },
  {
   "cell_type": "markdown",
   "metadata": {},
   "source": [
    "**Converting all the date columns into datetime format.**"
   ]
  },
  {
   "cell_type": "code",
   "execution_count": 13,
   "metadata": {
    "colab": {},
    "colab_type": "code",
    "id": "A8odOBvX5Wq7"
   },
   "outputs": [],
   "source": [
    "dataframe[\"document_create_date.1\"]= pd.to_datetime(dataframe[\"document_create_date.1\"], format=\"%Y%m%d\")\n",
    "dataframe[\"due_in_date\"]= pd.to_datetime(dataframe[\"due_in_date\"], format=\"%Y%m%d\")\n",
    "dataframe[\"baseline_create_date\"]= pd.to_datetime(dataframe[\"baseline_create_date\"], format=\"%Y%m%d\")\n",
    "dataframe['clear_date'] = pd.to_datetime(dataframe['clear_date']).dt.date\n",
    "dataframe['clear_date'] = pd.to_datetime(dataframe['clear_date'])\n",
    "dataframe['posting_date']= pd.to_datetime(dataframe['posting_date'])\n",
    "dataframe['pay_time_days'] = (dataframe['clear_date'] - dataframe['posting_date']).dt.days"
   ]
  },
  {
   "cell_type": "markdown",
   "metadata": {},
   "source": [
    "**Document create date can never be after the due date so firstly checking for that rows and dropping them.**"
   ]
  },
  {
   "cell_type": "code",
   "execution_count": 14,
   "metadata": {},
   "outputs": [
    {
     "data": {
      "text/html": [
       "<div>\n",
       "<style scoped>\n",
       "    .dataframe tbody tr th:only-of-type {\n",
       "        vertical-align: middle;\n",
       "    }\n",
       "\n",
       "    .dataframe tbody tr th {\n",
       "        vertical-align: top;\n",
       "    }\n",
       "\n",
       "    .dataframe thead th {\n",
       "        text-align: right;\n",
       "    }\n",
       "</style>\n",
       "<table border=\"1\" class=\"dataframe\">\n",
       "  <thead>\n",
       "    <tr style=\"text-align: right;\">\n",
       "      <th></th>\n",
       "      <th>business_code</th>\n",
       "      <th>cust_number</th>\n",
       "      <th>name_customer</th>\n",
       "      <th>clear_date</th>\n",
       "      <th>buisness_year</th>\n",
       "      <th>doc_id</th>\n",
       "      <th>posting_date</th>\n",
       "      <th>document_create_date.1</th>\n",
       "      <th>due_in_date</th>\n",
       "      <th>invoice_currency</th>\n",
       "      <th>document type</th>\n",
       "      <th>posting_id</th>\n",
       "      <th>total_open_amount</th>\n",
       "      <th>baseline_create_date</th>\n",
       "      <th>cust_payment_terms</th>\n",
       "      <th>invoice_id</th>\n",
       "      <th>isOpen</th>\n",
       "      <th>pay_time_days</th>\n",
       "    </tr>\n",
       "  </thead>\n",
       "  <tbody>\n",
       "    <tr>\n",
       "      <th>0</th>\n",
       "      <td>U001</td>\n",
       "      <td>0200705742</td>\n",
       "      <td>DOT us</td>\n",
       "      <td>2019-03-19</td>\n",
       "      <td>2019.0</td>\n",
       "      <td>1.928891e+09</td>\n",
       "      <td>2019-03-04</td>\n",
       "      <td>2019-03-04</td>\n",
       "      <td>2019-03-19</td>\n",
       "      <td>USD</td>\n",
       "      <td>RV</td>\n",
       "      <td>1.0</td>\n",
       "      <td>4367.76</td>\n",
       "      <td>2019-03-04</td>\n",
       "      <td>NAA8</td>\n",
       "      <td>1.928891e+09</td>\n",
       "      <td>0</td>\n",
       "      <td>15.0</td>\n",
       "    </tr>\n",
       "    <tr>\n",
       "      <th>1</th>\n",
       "      <td>U001</td>\n",
       "      <td>0200744019</td>\n",
       "      <td>TARG us</td>\n",
       "      <td>2019-10-30</td>\n",
       "      <td>2019.0</td>\n",
       "      <td>1.929752e+09</td>\n",
       "      <td>2019-08-16</td>\n",
       "      <td>2019-08-16</td>\n",
       "      <td>2019-10-30</td>\n",
       "      <td>USD</td>\n",
       "      <td>RV</td>\n",
       "      <td>1.0</td>\n",
       "      <td>370.18</td>\n",
       "      <td>2019-08-16</td>\n",
       "      <td>NAWN</td>\n",
       "      <td>1.929752e+09</td>\n",
       "      <td>0</td>\n",
       "      <td>75.0</td>\n",
       "    </tr>\n",
       "    <tr>\n",
       "      <th>2</th>\n",
       "      <td>U001</td>\n",
       "      <td>0200769623</td>\n",
       "      <td>WAL-MAR us</td>\n",
       "      <td>2019-01-22</td>\n",
       "      <td>2019.0</td>\n",
       "      <td>1.928594e+09</td>\n",
       "      <td>2019-01-08</td>\n",
       "      <td>2019-01-08</td>\n",
       "      <td>2019-01-23</td>\n",
       "      <td>USD</td>\n",
       "      <td>RV</td>\n",
       "      <td>1.0</td>\n",
       "      <td>1696.54</td>\n",
       "      <td>2019-01-08</td>\n",
       "      <td>NAH4</td>\n",
       "      <td>1.928594e+09</td>\n",
       "      <td>0</td>\n",
       "      <td>14.0</td>\n",
       "    </tr>\n",
       "    <tr>\n",
       "      <th>3</th>\n",
       "      <td>U001</td>\n",
       "      <td>0200794332</td>\n",
       "      <td>COST in</td>\n",
       "      <td>2019-04-18</td>\n",
       "      <td>2019.0</td>\n",
       "      <td>1.929076e+09</td>\n",
       "      <td>2019-04-04</td>\n",
       "      <td>2019-04-04</td>\n",
       "      <td>2019-04-19</td>\n",
       "      <td>USD</td>\n",
       "      <td>RV</td>\n",
       "      <td>1.0</td>\n",
       "      <td>118367.97</td>\n",
       "      <td>2019-04-04</td>\n",
       "      <td>NAAX</td>\n",
       "      <td>1.929076e+09</td>\n",
       "      <td>0</td>\n",
       "      <td>14.0</td>\n",
       "    </tr>\n",
       "    <tr>\n",
       "      <th>4</th>\n",
       "      <td>U001</td>\n",
       "      <td>0200974851</td>\n",
       "      <td>RESTA foundation</td>\n",
       "      <td>2019-04-03</td>\n",
       "      <td>2019.0</td>\n",
       "      <td>1.928964e+09</td>\n",
       "      <td>2019-03-14</td>\n",
       "      <td>2019-03-14</td>\n",
       "      <td>2019-04-03</td>\n",
       "      <td>USD</td>\n",
       "      <td>RV</td>\n",
       "      <td>1.0</td>\n",
       "      <td>344.18</td>\n",
       "      <td>2019-03-14</td>\n",
       "      <td>NAD1</td>\n",
       "      <td>1.928964e+09</td>\n",
       "      <td>0</td>\n",
       "      <td>20.0</td>\n",
       "    </tr>\n",
       "    <tr>\n",
       "      <th>...</th>\n",
       "      <td>...</td>\n",
       "      <td>...</td>\n",
       "      <td>...</td>\n",
       "      <td>...</td>\n",
       "      <td>...</td>\n",
       "      <td>...</td>\n",
       "      <td>...</td>\n",
       "      <td>...</td>\n",
       "      <td>...</td>\n",
       "      <td>...</td>\n",
       "      <td>...</td>\n",
       "      <td>...</td>\n",
       "      <td>...</td>\n",
       "      <td>...</td>\n",
       "      <td>...</td>\n",
       "      <td>...</td>\n",
       "      <td>...</td>\n",
       "      <td>...</td>\n",
       "    </tr>\n",
       "    <tr>\n",
       "      <th>49995</th>\n",
       "      <td>CA02</td>\n",
       "      <td>0140106372</td>\n",
       "      <td>G T  trust</td>\n",
       "      <td>NaT</td>\n",
       "      <td>2020.0</td>\n",
       "      <td>2.960633e+09</td>\n",
       "      <td>2020-05-05</td>\n",
       "      <td>2020-05-05</td>\n",
       "      <td>2020-05-17</td>\n",
       "      <td>CAD</td>\n",
       "      <td>RV</td>\n",
       "      <td>1.0</td>\n",
       "      <td>72705.60</td>\n",
       "      <td>2020-05-07</td>\n",
       "      <td>CA10</td>\n",
       "      <td>2.960633e+09</td>\n",
       "      <td>1</td>\n",
       "      <td>NaN</td>\n",
       "    </tr>\n",
       "    <tr>\n",
       "      <th>49996</th>\n",
       "      <td>U001</td>\n",
       "      <td>0200737918</td>\n",
       "      <td>W LEE  llc</td>\n",
       "      <td>NaT</td>\n",
       "      <td>2020.0</td>\n",
       "      <td>1.930633e+09</td>\n",
       "      <td>2020-03-12</td>\n",
       "      <td>2020-03-12</td>\n",
       "      <td>2020-03-27</td>\n",
       "      <td>USD</td>\n",
       "      <td>RV</td>\n",
       "      <td>1.0</td>\n",
       "      <td>31652.84</td>\n",
       "      <td>2020-03-12</td>\n",
       "      <td>NAA8</td>\n",
       "      <td>1.930633e+09</td>\n",
       "      <td>1</td>\n",
       "      <td>NaN</td>\n",
       "    </tr>\n",
       "    <tr>\n",
       "      <th>49997</th>\n",
       "      <td>U001</td>\n",
       "      <td>0200353024</td>\n",
       "      <td>DECA associates</td>\n",
       "      <td>NaT</td>\n",
       "      <td>2020.0</td>\n",
       "      <td>1.930690e+09</td>\n",
       "      <td>2020-03-24</td>\n",
       "      <td>2020-03-24</td>\n",
       "      <td>2020-04-08</td>\n",
       "      <td>USD</td>\n",
       "      <td>RV</td>\n",
       "      <td>1.0</td>\n",
       "      <td>645.24</td>\n",
       "      <td>2020-03-16</td>\n",
       "      <td>NAM4</td>\n",
       "      <td>1.930690e+09</td>\n",
       "      <td>1</td>\n",
       "      <td>NaN</td>\n",
       "    </tr>\n",
       "    <tr>\n",
       "      <th>49998</th>\n",
       "      <td>U001</td>\n",
       "      <td>0200974851</td>\n",
       "      <td>RESTA llc</td>\n",
       "      <td>NaT</td>\n",
       "      <td>2020.0</td>\n",
       "      <td>1.930795e+09</td>\n",
       "      <td>2020-04-16</td>\n",
       "      <td>2020-04-16</td>\n",
       "      <td>2020-05-06</td>\n",
       "      <td>USD</td>\n",
       "      <td>RV</td>\n",
       "      <td>1.0</td>\n",
       "      <td>219.73</td>\n",
       "      <td>2020-04-16</td>\n",
       "      <td>NAD1</td>\n",
       "      <td>1.930795e+09</td>\n",
       "      <td>1</td>\n",
       "      <td>NaN</td>\n",
       "    </tr>\n",
       "    <tr>\n",
       "      <th>49999</th>\n",
       "      <td>U001</td>\n",
       "      <td>0200769623</td>\n",
       "      <td>WAL-MAR corp</td>\n",
       "      <td>NaT</td>\n",
       "      <td>2020.0</td>\n",
       "      <td>1.930874e+09</td>\n",
       "      <td>2020-05-08</td>\n",
       "      <td>2020-05-08</td>\n",
       "      <td>2020-05-23</td>\n",
       "      <td>USD</td>\n",
       "      <td>RV</td>\n",
       "      <td>1.0</td>\n",
       "      <td>4332.64</td>\n",
       "      <td>2020-05-08</td>\n",
       "      <td>NAH4</td>\n",
       "      <td>1.930874e+09</td>\n",
       "      <td>1</td>\n",
       "      <td>NaN</td>\n",
       "    </tr>\n",
       "  </tbody>\n",
       "</table>\n",
       "<p>49858 rows × 18 columns</p>\n",
       "</div>"
      ],
      "text/plain": [
       "      business_code cust_number     name_customer clear_date  buisness_year  \\\n",
       "0              U001  0200705742            DOT us 2019-03-19         2019.0   \n",
       "1              U001  0200744019           TARG us 2019-10-30         2019.0   \n",
       "2              U001  0200769623        WAL-MAR us 2019-01-22         2019.0   \n",
       "3              U001  0200794332           COST in 2019-04-18         2019.0   \n",
       "4              U001  0200974851  RESTA foundation 2019-04-03         2019.0   \n",
       "...             ...         ...               ...        ...            ...   \n",
       "49995          CA02  0140106372        G T  trust        NaT         2020.0   \n",
       "49996          U001  0200737918        W LEE  llc        NaT         2020.0   \n",
       "49997          U001  0200353024   DECA associates        NaT         2020.0   \n",
       "49998          U001  0200974851         RESTA llc        NaT         2020.0   \n",
       "49999          U001  0200769623      WAL-MAR corp        NaT         2020.0   \n",
       "\n",
       "             doc_id posting_date document_create_date.1 due_in_date  \\\n",
       "0      1.928891e+09   2019-03-04             2019-03-04  2019-03-19   \n",
       "1      1.929752e+09   2019-08-16             2019-08-16  2019-10-30   \n",
       "2      1.928594e+09   2019-01-08             2019-01-08  2019-01-23   \n",
       "3      1.929076e+09   2019-04-04             2019-04-04  2019-04-19   \n",
       "4      1.928964e+09   2019-03-14             2019-03-14  2019-04-03   \n",
       "...             ...          ...                    ...         ...   \n",
       "49995  2.960633e+09   2020-05-05             2020-05-05  2020-05-17   \n",
       "49996  1.930633e+09   2020-03-12             2020-03-12  2020-03-27   \n",
       "49997  1.930690e+09   2020-03-24             2020-03-24  2020-04-08   \n",
       "49998  1.930795e+09   2020-04-16             2020-04-16  2020-05-06   \n",
       "49999  1.930874e+09   2020-05-08             2020-05-08  2020-05-23   \n",
       "\n",
       "      invoice_currency document type  posting_id  total_open_amount  \\\n",
       "0                  USD            RV         1.0            4367.76   \n",
       "1                  USD            RV         1.0             370.18   \n",
       "2                  USD            RV         1.0            1696.54   \n",
       "3                  USD            RV         1.0          118367.97   \n",
       "4                  USD            RV         1.0             344.18   \n",
       "...                ...           ...         ...                ...   \n",
       "49995              CAD            RV         1.0           72705.60   \n",
       "49996              USD            RV         1.0           31652.84   \n",
       "49997              USD            RV         1.0             645.24   \n",
       "49998              USD            RV         1.0             219.73   \n",
       "49999              USD            RV         1.0            4332.64   \n",
       "\n",
       "      baseline_create_date cust_payment_terms    invoice_id  isOpen  \\\n",
       "0               2019-03-04               NAA8  1.928891e+09       0   \n",
       "1               2019-08-16               NAWN  1.929752e+09       0   \n",
       "2               2019-01-08               NAH4  1.928594e+09       0   \n",
       "3               2019-04-04               NAAX  1.929076e+09       0   \n",
       "4               2019-03-14               NAD1  1.928964e+09       0   \n",
       "...                    ...                ...           ...     ...   \n",
       "49995           2020-05-07               CA10  2.960633e+09       1   \n",
       "49996           2020-03-12               NAA8  1.930633e+09       1   \n",
       "49997           2020-03-16               NAM4  1.930690e+09       1   \n",
       "49998           2020-04-16               NAD1  1.930795e+09       1   \n",
       "49999           2020-05-08               NAH4  1.930874e+09       1   \n",
       "\n",
       "       pay_time_days  \n",
       "0               15.0  \n",
       "1               75.0  \n",
       "2               14.0  \n",
       "3               14.0  \n",
       "4               20.0  \n",
       "...              ...  \n",
       "49995            NaN  \n",
       "49996            NaN  \n",
       "49997            NaN  \n",
       "49998            NaN  \n",
       "49999            NaN  \n",
       "\n",
       "[49858 rows x 18 columns]"
      ]
     },
     "execution_count": 14,
     "metadata": {},
     "output_type": "execute_result"
    }
   ],
   "source": [
    "dataframe.drop(dataframe[dataframe['document_create_date.1'] > dataframe['due_in_date']].index,inplace=True)\n",
    "dataframe"
   ]
  },
  {
   "cell_type": "markdown",
   "metadata": {},
   "source": [
    "**Baseline create date can never be after the due date so firstly checking for that rows and dropping them.**"
   ]
  },
  {
   "cell_type": "code",
   "execution_count": 15,
   "metadata": {},
   "outputs": [
    {
     "data": {
      "text/html": [
       "<div>\n",
       "<style scoped>\n",
       "    .dataframe tbody tr th:only-of-type {\n",
       "        vertical-align: middle;\n",
       "    }\n",
       "\n",
       "    .dataframe tbody tr th {\n",
       "        vertical-align: top;\n",
       "    }\n",
       "\n",
       "    .dataframe thead th {\n",
       "        text-align: right;\n",
       "    }\n",
       "</style>\n",
       "<table border=\"1\" class=\"dataframe\">\n",
       "  <thead>\n",
       "    <tr style=\"text-align: right;\">\n",
       "      <th></th>\n",
       "      <th>business_code</th>\n",
       "      <th>cust_number</th>\n",
       "      <th>name_customer</th>\n",
       "      <th>clear_date</th>\n",
       "      <th>buisness_year</th>\n",
       "      <th>doc_id</th>\n",
       "      <th>posting_date</th>\n",
       "      <th>document_create_date.1</th>\n",
       "      <th>due_in_date</th>\n",
       "      <th>invoice_currency</th>\n",
       "      <th>document type</th>\n",
       "      <th>posting_id</th>\n",
       "      <th>total_open_amount</th>\n",
       "      <th>baseline_create_date</th>\n",
       "      <th>cust_payment_terms</th>\n",
       "      <th>invoice_id</th>\n",
       "      <th>isOpen</th>\n",
       "      <th>pay_time_days</th>\n",
       "    </tr>\n",
       "  </thead>\n",
       "  <tbody>\n",
       "    <tr>\n",
       "      <th>0</th>\n",
       "      <td>U001</td>\n",
       "      <td>0200705742</td>\n",
       "      <td>DOT us</td>\n",
       "      <td>2019-03-19</td>\n",
       "      <td>2019.0</td>\n",
       "      <td>1.928891e+09</td>\n",
       "      <td>2019-03-04</td>\n",
       "      <td>2019-03-04</td>\n",
       "      <td>2019-03-19</td>\n",
       "      <td>USD</td>\n",
       "      <td>RV</td>\n",
       "      <td>1.0</td>\n",
       "      <td>4367.76</td>\n",
       "      <td>2019-03-04</td>\n",
       "      <td>NAA8</td>\n",
       "      <td>1.928891e+09</td>\n",
       "      <td>0</td>\n",
       "      <td>15.0</td>\n",
       "    </tr>\n",
       "    <tr>\n",
       "      <th>1</th>\n",
       "      <td>U001</td>\n",
       "      <td>0200744019</td>\n",
       "      <td>TARG us</td>\n",
       "      <td>2019-10-30</td>\n",
       "      <td>2019.0</td>\n",
       "      <td>1.929752e+09</td>\n",
       "      <td>2019-08-16</td>\n",
       "      <td>2019-08-16</td>\n",
       "      <td>2019-10-30</td>\n",
       "      <td>USD</td>\n",
       "      <td>RV</td>\n",
       "      <td>1.0</td>\n",
       "      <td>370.18</td>\n",
       "      <td>2019-08-16</td>\n",
       "      <td>NAWN</td>\n",
       "      <td>1.929752e+09</td>\n",
       "      <td>0</td>\n",
       "      <td>75.0</td>\n",
       "    </tr>\n",
       "    <tr>\n",
       "      <th>2</th>\n",
       "      <td>U001</td>\n",
       "      <td>0200769623</td>\n",
       "      <td>WAL-MAR us</td>\n",
       "      <td>2019-01-22</td>\n",
       "      <td>2019.0</td>\n",
       "      <td>1.928594e+09</td>\n",
       "      <td>2019-01-08</td>\n",
       "      <td>2019-01-08</td>\n",
       "      <td>2019-01-23</td>\n",
       "      <td>USD</td>\n",
       "      <td>RV</td>\n",
       "      <td>1.0</td>\n",
       "      <td>1696.54</td>\n",
       "      <td>2019-01-08</td>\n",
       "      <td>NAH4</td>\n",
       "      <td>1.928594e+09</td>\n",
       "      <td>0</td>\n",
       "      <td>14.0</td>\n",
       "    </tr>\n",
       "    <tr>\n",
       "      <th>3</th>\n",
       "      <td>U001</td>\n",
       "      <td>0200794332</td>\n",
       "      <td>COST in</td>\n",
       "      <td>2019-04-18</td>\n",
       "      <td>2019.0</td>\n",
       "      <td>1.929076e+09</td>\n",
       "      <td>2019-04-04</td>\n",
       "      <td>2019-04-04</td>\n",
       "      <td>2019-04-19</td>\n",
       "      <td>USD</td>\n",
       "      <td>RV</td>\n",
       "      <td>1.0</td>\n",
       "      <td>118367.97</td>\n",
       "      <td>2019-04-04</td>\n",
       "      <td>NAAX</td>\n",
       "      <td>1.929076e+09</td>\n",
       "      <td>0</td>\n",
       "      <td>14.0</td>\n",
       "    </tr>\n",
       "    <tr>\n",
       "      <th>4</th>\n",
       "      <td>U001</td>\n",
       "      <td>0200974851</td>\n",
       "      <td>RESTA foundation</td>\n",
       "      <td>2019-04-03</td>\n",
       "      <td>2019.0</td>\n",
       "      <td>1.928964e+09</td>\n",
       "      <td>2019-03-14</td>\n",
       "      <td>2019-03-14</td>\n",
       "      <td>2019-04-03</td>\n",
       "      <td>USD</td>\n",
       "      <td>RV</td>\n",
       "      <td>1.0</td>\n",
       "      <td>344.18</td>\n",
       "      <td>2019-03-14</td>\n",
       "      <td>NAD1</td>\n",
       "      <td>1.928964e+09</td>\n",
       "      <td>0</td>\n",
       "      <td>20.0</td>\n",
       "    </tr>\n",
       "    <tr>\n",
       "      <th>...</th>\n",
       "      <td>...</td>\n",
       "      <td>...</td>\n",
       "      <td>...</td>\n",
       "      <td>...</td>\n",
       "      <td>...</td>\n",
       "      <td>...</td>\n",
       "      <td>...</td>\n",
       "      <td>...</td>\n",
       "      <td>...</td>\n",
       "      <td>...</td>\n",
       "      <td>...</td>\n",
       "      <td>...</td>\n",
       "      <td>...</td>\n",
       "      <td>...</td>\n",
       "      <td>...</td>\n",
       "      <td>...</td>\n",
       "      <td>...</td>\n",
       "      <td>...</td>\n",
       "    </tr>\n",
       "    <tr>\n",
       "      <th>49995</th>\n",
       "      <td>CA02</td>\n",
       "      <td>0140106372</td>\n",
       "      <td>G T  trust</td>\n",
       "      <td>NaT</td>\n",
       "      <td>2020.0</td>\n",
       "      <td>2.960633e+09</td>\n",
       "      <td>2020-05-05</td>\n",
       "      <td>2020-05-05</td>\n",
       "      <td>2020-05-17</td>\n",
       "      <td>CAD</td>\n",
       "      <td>RV</td>\n",
       "      <td>1.0</td>\n",
       "      <td>72705.60</td>\n",
       "      <td>2020-05-07</td>\n",
       "      <td>CA10</td>\n",
       "      <td>2.960633e+09</td>\n",
       "      <td>1</td>\n",
       "      <td>NaN</td>\n",
       "    </tr>\n",
       "    <tr>\n",
       "      <th>49996</th>\n",
       "      <td>U001</td>\n",
       "      <td>0200737918</td>\n",
       "      <td>W LEE  llc</td>\n",
       "      <td>NaT</td>\n",
       "      <td>2020.0</td>\n",
       "      <td>1.930633e+09</td>\n",
       "      <td>2020-03-12</td>\n",
       "      <td>2020-03-12</td>\n",
       "      <td>2020-03-27</td>\n",
       "      <td>USD</td>\n",
       "      <td>RV</td>\n",
       "      <td>1.0</td>\n",
       "      <td>31652.84</td>\n",
       "      <td>2020-03-12</td>\n",
       "      <td>NAA8</td>\n",
       "      <td>1.930633e+09</td>\n",
       "      <td>1</td>\n",
       "      <td>NaN</td>\n",
       "    </tr>\n",
       "    <tr>\n",
       "      <th>49997</th>\n",
       "      <td>U001</td>\n",
       "      <td>0200353024</td>\n",
       "      <td>DECA associates</td>\n",
       "      <td>NaT</td>\n",
       "      <td>2020.0</td>\n",
       "      <td>1.930690e+09</td>\n",
       "      <td>2020-03-24</td>\n",
       "      <td>2020-03-24</td>\n",
       "      <td>2020-04-08</td>\n",
       "      <td>USD</td>\n",
       "      <td>RV</td>\n",
       "      <td>1.0</td>\n",
       "      <td>645.24</td>\n",
       "      <td>2020-03-16</td>\n",
       "      <td>NAM4</td>\n",
       "      <td>1.930690e+09</td>\n",
       "      <td>1</td>\n",
       "      <td>NaN</td>\n",
       "    </tr>\n",
       "    <tr>\n",
       "      <th>49998</th>\n",
       "      <td>U001</td>\n",
       "      <td>0200974851</td>\n",
       "      <td>RESTA llc</td>\n",
       "      <td>NaT</td>\n",
       "      <td>2020.0</td>\n",
       "      <td>1.930795e+09</td>\n",
       "      <td>2020-04-16</td>\n",
       "      <td>2020-04-16</td>\n",
       "      <td>2020-05-06</td>\n",
       "      <td>USD</td>\n",
       "      <td>RV</td>\n",
       "      <td>1.0</td>\n",
       "      <td>219.73</td>\n",
       "      <td>2020-04-16</td>\n",
       "      <td>NAD1</td>\n",
       "      <td>1.930795e+09</td>\n",
       "      <td>1</td>\n",
       "      <td>NaN</td>\n",
       "    </tr>\n",
       "    <tr>\n",
       "      <th>49999</th>\n",
       "      <td>U001</td>\n",
       "      <td>0200769623</td>\n",
       "      <td>WAL-MAR corp</td>\n",
       "      <td>NaT</td>\n",
       "      <td>2020.0</td>\n",
       "      <td>1.930874e+09</td>\n",
       "      <td>2020-05-08</td>\n",
       "      <td>2020-05-08</td>\n",
       "      <td>2020-05-23</td>\n",
       "      <td>USD</td>\n",
       "      <td>RV</td>\n",
       "      <td>1.0</td>\n",
       "      <td>4332.64</td>\n",
       "      <td>2020-05-08</td>\n",
       "      <td>NAH4</td>\n",
       "      <td>1.930874e+09</td>\n",
       "      <td>1</td>\n",
       "      <td>NaN</td>\n",
       "    </tr>\n",
       "  </tbody>\n",
       "</table>\n",
       "<p>49858 rows × 18 columns</p>\n",
       "</div>"
      ],
      "text/plain": [
       "      business_code cust_number     name_customer clear_date  buisness_year  \\\n",
       "0              U001  0200705742            DOT us 2019-03-19         2019.0   \n",
       "1              U001  0200744019           TARG us 2019-10-30         2019.0   \n",
       "2              U001  0200769623        WAL-MAR us 2019-01-22         2019.0   \n",
       "3              U001  0200794332           COST in 2019-04-18         2019.0   \n",
       "4              U001  0200974851  RESTA foundation 2019-04-03         2019.0   \n",
       "...             ...         ...               ...        ...            ...   \n",
       "49995          CA02  0140106372        G T  trust        NaT         2020.0   \n",
       "49996          U001  0200737918        W LEE  llc        NaT         2020.0   \n",
       "49997          U001  0200353024   DECA associates        NaT         2020.0   \n",
       "49998          U001  0200974851         RESTA llc        NaT         2020.0   \n",
       "49999          U001  0200769623      WAL-MAR corp        NaT         2020.0   \n",
       "\n",
       "             doc_id posting_date document_create_date.1 due_in_date  \\\n",
       "0      1.928891e+09   2019-03-04             2019-03-04  2019-03-19   \n",
       "1      1.929752e+09   2019-08-16             2019-08-16  2019-10-30   \n",
       "2      1.928594e+09   2019-01-08             2019-01-08  2019-01-23   \n",
       "3      1.929076e+09   2019-04-04             2019-04-04  2019-04-19   \n",
       "4      1.928964e+09   2019-03-14             2019-03-14  2019-04-03   \n",
       "...             ...          ...                    ...         ...   \n",
       "49995  2.960633e+09   2020-05-05             2020-05-05  2020-05-17   \n",
       "49996  1.930633e+09   2020-03-12             2020-03-12  2020-03-27   \n",
       "49997  1.930690e+09   2020-03-24             2020-03-24  2020-04-08   \n",
       "49998  1.930795e+09   2020-04-16             2020-04-16  2020-05-06   \n",
       "49999  1.930874e+09   2020-05-08             2020-05-08  2020-05-23   \n",
       "\n",
       "      invoice_currency document type  posting_id  total_open_amount  \\\n",
       "0                  USD            RV         1.0            4367.76   \n",
       "1                  USD            RV         1.0             370.18   \n",
       "2                  USD            RV         1.0            1696.54   \n",
       "3                  USD            RV         1.0          118367.97   \n",
       "4                  USD            RV         1.0             344.18   \n",
       "...                ...           ...         ...                ...   \n",
       "49995              CAD            RV         1.0           72705.60   \n",
       "49996              USD            RV         1.0           31652.84   \n",
       "49997              USD            RV         1.0             645.24   \n",
       "49998              USD            RV         1.0             219.73   \n",
       "49999              USD            RV         1.0            4332.64   \n",
       "\n",
       "      baseline_create_date cust_payment_terms    invoice_id  isOpen  \\\n",
       "0               2019-03-04               NAA8  1.928891e+09       0   \n",
       "1               2019-08-16               NAWN  1.929752e+09       0   \n",
       "2               2019-01-08               NAH4  1.928594e+09       0   \n",
       "3               2019-04-04               NAAX  1.929076e+09       0   \n",
       "4               2019-03-14               NAD1  1.928964e+09       0   \n",
       "...                    ...                ...           ...     ...   \n",
       "49995           2020-05-07               CA10  2.960633e+09       1   \n",
       "49996           2020-03-12               NAA8  1.930633e+09       1   \n",
       "49997           2020-03-16               NAM4  1.930690e+09       1   \n",
       "49998           2020-04-16               NAD1  1.930795e+09       1   \n",
       "49999           2020-05-08               NAH4  1.930874e+09       1   \n",
       "\n",
       "       pay_time_days  \n",
       "0               15.0  \n",
       "1               75.0  \n",
       "2               14.0  \n",
       "3               14.0  \n",
       "4               20.0  \n",
       "...              ...  \n",
       "49995            NaN  \n",
       "49996            NaN  \n",
       "49997            NaN  \n",
       "49998            NaN  \n",
       "49999            NaN  \n",
       "\n",
       "[49858 rows x 18 columns]"
      ]
     },
     "execution_count": 15,
     "metadata": {},
     "output_type": "execute_result"
    }
   ],
   "source": [
    "dataframe.drop(dataframe[dataframe['baseline_create_date'] > dataframe['due_in_date']].index,inplace=True)\n",
    "dataframe"
   ]
  },
  {
   "cell_type": "markdown",
   "metadata": {},
   "source": [
    "**Dropping business year as this column is not any use ,as dates can provide us with year.**"
   ]
  },
  {
   "cell_type": "code",
   "execution_count": 16,
   "metadata": {},
   "outputs": [],
   "source": [
    "dataframe.drop('buisness_year',axis=1,inplace=True)"
   ]
  },
  {
   "cell_type": "markdown",
   "metadata": {},
   "source": [
    "**Checking if document create date and baseline create date are equal or not.**"
   ]
  },
  {
   "cell_type": "code",
   "execution_count": 17,
   "metadata": {},
   "outputs": [
    {
     "data": {
      "text/plain": [
       "(5348, 17)"
      ]
     },
     "execution_count": 17,
     "metadata": {},
     "output_type": "execute_result"
    }
   ],
   "source": [
    "check2 = dataframe[dataframe['document_create_date.1']!=dataframe['baseline_create_date']]\n",
    "check2.shape"
   ]
  },
  {
   "cell_type": "markdown",
   "metadata": {},
   "source": [
    "**As we can see all rows of the columns document create date and baseline create date are not equal we will not remove it.**"
   ]
  },
  {
   "cell_type": "markdown",
   "metadata": {},
   "source": [
    "**Changing all the amount to one currency.**"
   ]
  },
  {
   "cell_type": "code",
   "execution_count": 18,
   "metadata": {},
   "outputs": [],
   "source": [
    "dataframe['total_open_amount'] = np.where(dataframe['invoice_currency'] == 'CAD',\n",
    "                                           dataframe['total_open_amount'] * 0.79,\n",
    "                                           dataframe['total_open_amount'])\n",
    "dataframe['total_open_amount']=dataframe['total_open_amount'].astype(float)"
   ]
  },
  {
   "cell_type": "markdown",
   "metadata": {},
   "source": [
    "**After changing the values updating the currency in invoice_currency column.**"
   ]
  },
  {
   "cell_type": "code",
   "execution_count": 19,
   "metadata": {},
   "outputs": [],
   "source": [
    "dataframe['invoice_currency'].replace({'CAD':'USD'},inplace=True)"
   ]
  },
  {
   "cell_type": "markdown",
   "metadata": {},
   "source": [
    "**Label encoding the rows with categorical values and checking the variance for threshold 0.**"
   ]
  },
  {
   "cell_type": "code",
   "execution_count": 20,
   "metadata": {},
   "outputs": [],
   "source": [
    "le = preprocessing.LabelEncoder()\n",
    "dataframe['document type']= le.fit_transform(dataframe['document type'])\n",
    "dataframe['invoice_currency']= le.fit_transform(dataframe['invoice_currency'])"
   ]
  },
  {
   "cell_type": "code",
   "execution_count": 21,
   "metadata": {},
   "outputs": [
    {
     "name": "stdout",
     "output_type": "stream",
     "text": [
      "['invoice_currency', 'document type', 'posting_id', 'isOpen']\n"
     ]
    }
   ],
   "source": [
    "vs_constant = VarianceThreshold(threshold=0.1)\n",
    "numerical_data = dataframe[dataframe.select_dtypes([np.number]).columns]\n",
    "vs_constant.fit(numerical_data)\n",
    "constant_columns = [column for column in numerical_data.columns\n",
    "                    if column not in numerical_data.columns[vs_constant.get_support()]]\n",
    "print(constant_columns)\n",
    "dataframe.drop(labels=constant_columns, axis=1, inplace=True)"
   ]
  },
  {
   "cell_type": "markdown",
   "metadata": {},
   "source": [
    "Since there is a column whose variance is less than 0.1 we will delete it."
   ]
  },
  {
   "cell_type": "markdown",
   "metadata": {},
   "source": [
    "**Having only one column between name_customer and cust_number.**"
   ]
  },
  {
   "cell_type": "code",
   "execution_count": 22,
   "metadata": {},
   "outputs": [],
   "source": [
    "dataframe.drop(['name_customer'],axis=1,inplace=True)"
   ]
  },
  {
   "cell_type": "code",
   "execution_count": 23,
   "metadata": {},
   "outputs": [
    {
     "data": {
      "text/html": [
       "<div>\n",
       "<style scoped>\n",
       "    .dataframe tbody tr th:only-of-type {\n",
       "        vertical-align: middle;\n",
       "    }\n",
       "\n",
       "    .dataframe tbody tr th {\n",
       "        vertical-align: top;\n",
       "    }\n",
       "\n",
       "    .dataframe thead th {\n",
       "        text-align: right;\n",
       "    }\n",
       "</style>\n",
       "<table border=\"1\" class=\"dataframe\">\n",
       "  <thead>\n",
       "    <tr style=\"text-align: right;\">\n",
       "      <th></th>\n",
       "      <th>business_code</th>\n",
       "      <th>cust_number</th>\n",
       "      <th>clear_date</th>\n",
       "      <th>doc_id</th>\n",
       "      <th>posting_date</th>\n",
       "      <th>document_create_date.1</th>\n",
       "      <th>due_in_date</th>\n",
       "      <th>total_open_amount</th>\n",
       "      <th>baseline_create_date</th>\n",
       "      <th>cust_payment_terms</th>\n",
       "      <th>invoice_id</th>\n",
       "      <th>pay_time_days</th>\n",
       "    </tr>\n",
       "  </thead>\n",
       "  <tbody>\n",
       "    <tr>\n",
       "      <th>0</th>\n",
       "      <td>U001</td>\n",
       "      <td>0200705742</td>\n",
       "      <td>2019-03-19</td>\n",
       "      <td>1.928891e+09</td>\n",
       "      <td>2019-03-04</td>\n",
       "      <td>2019-03-04</td>\n",
       "      <td>2019-03-19</td>\n",
       "      <td>4367.760</td>\n",
       "      <td>2019-03-04</td>\n",
       "      <td>NAA8</td>\n",
       "      <td>1.928891e+09</td>\n",
       "      <td>15.0</td>\n",
       "    </tr>\n",
       "    <tr>\n",
       "      <th>1</th>\n",
       "      <td>U001</td>\n",
       "      <td>0200744019</td>\n",
       "      <td>2019-10-30</td>\n",
       "      <td>1.929752e+09</td>\n",
       "      <td>2019-08-16</td>\n",
       "      <td>2019-08-16</td>\n",
       "      <td>2019-10-30</td>\n",
       "      <td>370.180</td>\n",
       "      <td>2019-08-16</td>\n",
       "      <td>NAWN</td>\n",
       "      <td>1.929752e+09</td>\n",
       "      <td>75.0</td>\n",
       "    </tr>\n",
       "    <tr>\n",
       "      <th>2</th>\n",
       "      <td>U001</td>\n",
       "      <td>0200769623</td>\n",
       "      <td>2019-01-22</td>\n",
       "      <td>1.928594e+09</td>\n",
       "      <td>2019-01-08</td>\n",
       "      <td>2019-01-08</td>\n",
       "      <td>2019-01-23</td>\n",
       "      <td>1696.540</td>\n",
       "      <td>2019-01-08</td>\n",
       "      <td>NAH4</td>\n",
       "      <td>1.928594e+09</td>\n",
       "      <td>14.0</td>\n",
       "    </tr>\n",
       "    <tr>\n",
       "      <th>3</th>\n",
       "      <td>U001</td>\n",
       "      <td>0200794332</td>\n",
       "      <td>2019-04-18</td>\n",
       "      <td>1.929076e+09</td>\n",
       "      <td>2019-04-04</td>\n",
       "      <td>2019-04-04</td>\n",
       "      <td>2019-04-19</td>\n",
       "      <td>118367.970</td>\n",
       "      <td>2019-04-04</td>\n",
       "      <td>NAAX</td>\n",
       "      <td>1.929076e+09</td>\n",
       "      <td>14.0</td>\n",
       "    </tr>\n",
       "    <tr>\n",
       "      <th>4</th>\n",
       "      <td>U001</td>\n",
       "      <td>0200974851</td>\n",
       "      <td>2019-04-03</td>\n",
       "      <td>1.928964e+09</td>\n",
       "      <td>2019-03-14</td>\n",
       "      <td>2019-03-14</td>\n",
       "      <td>2019-04-03</td>\n",
       "      <td>344.180</td>\n",
       "      <td>2019-03-14</td>\n",
       "      <td>NAD1</td>\n",
       "      <td>1.928964e+09</td>\n",
       "      <td>20.0</td>\n",
       "    </tr>\n",
       "    <tr>\n",
       "      <th>...</th>\n",
       "      <td>...</td>\n",
       "      <td>...</td>\n",
       "      <td>...</td>\n",
       "      <td>...</td>\n",
       "      <td>...</td>\n",
       "      <td>...</td>\n",
       "      <td>...</td>\n",
       "      <td>...</td>\n",
       "      <td>...</td>\n",
       "      <td>...</td>\n",
       "      <td>...</td>\n",
       "      <td>...</td>\n",
       "    </tr>\n",
       "    <tr>\n",
       "      <th>49995</th>\n",
       "      <td>CA02</td>\n",
       "      <td>0140106372</td>\n",
       "      <td>NaT</td>\n",
       "      <td>2.960633e+09</td>\n",
       "      <td>2020-05-05</td>\n",
       "      <td>2020-05-05</td>\n",
       "      <td>2020-05-17</td>\n",
       "      <td>57437.424</td>\n",
       "      <td>2020-05-07</td>\n",
       "      <td>CA10</td>\n",
       "      <td>2.960633e+09</td>\n",
       "      <td>NaN</td>\n",
       "    </tr>\n",
       "    <tr>\n",
       "      <th>49996</th>\n",
       "      <td>U001</td>\n",
       "      <td>0200737918</td>\n",
       "      <td>NaT</td>\n",
       "      <td>1.930633e+09</td>\n",
       "      <td>2020-03-12</td>\n",
       "      <td>2020-03-12</td>\n",
       "      <td>2020-03-27</td>\n",
       "      <td>31652.840</td>\n",
       "      <td>2020-03-12</td>\n",
       "      <td>NAA8</td>\n",
       "      <td>1.930633e+09</td>\n",
       "      <td>NaN</td>\n",
       "    </tr>\n",
       "    <tr>\n",
       "      <th>49997</th>\n",
       "      <td>U001</td>\n",
       "      <td>0200353024</td>\n",
       "      <td>NaT</td>\n",
       "      <td>1.930690e+09</td>\n",
       "      <td>2020-03-24</td>\n",
       "      <td>2020-03-24</td>\n",
       "      <td>2020-04-08</td>\n",
       "      <td>645.240</td>\n",
       "      <td>2020-03-16</td>\n",
       "      <td>NAM4</td>\n",
       "      <td>1.930690e+09</td>\n",
       "      <td>NaN</td>\n",
       "    </tr>\n",
       "    <tr>\n",
       "      <th>49998</th>\n",
       "      <td>U001</td>\n",
       "      <td>0200974851</td>\n",
       "      <td>NaT</td>\n",
       "      <td>1.930795e+09</td>\n",
       "      <td>2020-04-16</td>\n",
       "      <td>2020-04-16</td>\n",
       "      <td>2020-05-06</td>\n",
       "      <td>219.730</td>\n",
       "      <td>2020-04-16</td>\n",
       "      <td>NAD1</td>\n",
       "      <td>1.930795e+09</td>\n",
       "      <td>NaN</td>\n",
       "    </tr>\n",
       "    <tr>\n",
       "      <th>49999</th>\n",
       "      <td>U001</td>\n",
       "      <td>0200769623</td>\n",
       "      <td>NaT</td>\n",
       "      <td>1.930874e+09</td>\n",
       "      <td>2020-05-08</td>\n",
       "      <td>2020-05-08</td>\n",
       "      <td>2020-05-23</td>\n",
       "      <td>4332.640</td>\n",
       "      <td>2020-05-08</td>\n",
       "      <td>NAH4</td>\n",
       "      <td>1.930874e+09</td>\n",
       "      <td>NaN</td>\n",
       "    </tr>\n",
       "  </tbody>\n",
       "</table>\n",
       "<p>49858 rows × 12 columns</p>\n",
       "</div>"
      ],
      "text/plain": [
       "      business_code cust_number clear_date        doc_id posting_date  \\\n",
       "0              U001  0200705742 2019-03-19  1.928891e+09   2019-03-04   \n",
       "1              U001  0200744019 2019-10-30  1.929752e+09   2019-08-16   \n",
       "2              U001  0200769623 2019-01-22  1.928594e+09   2019-01-08   \n",
       "3              U001  0200794332 2019-04-18  1.929076e+09   2019-04-04   \n",
       "4              U001  0200974851 2019-04-03  1.928964e+09   2019-03-14   \n",
       "...             ...         ...        ...           ...          ...   \n",
       "49995          CA02  0140106372        NaT  2.960633e+09   2020-05-05   \n",
       "49996          U001  0200737918        NaT  1.930633e+09   2020-03-12   \n",
       "49997          U001  0200353024        NaT  1.930690e+09   2020-03-24   \n",
       "49998          U001  0200974851        NaT  1.930795e+09   2020-04-16   \n",
       "49999          U001  0200769623        NaT  1.930874e+09   2020-05-08   \n",
       "\n",
       "      document_create_date.1 due_in_date  total_open_amount  \\\n",
       "0                 2019-03-04  2019-03-19           4367.760   \n",
       "1                 2019-08-16  2019-10-30            370.180   \n",
       "2                 2019-01-08  2019-01-23           1696.540   \n",
       "3                 2019-04-04  2019-04-19         118367.970   \n",
       "4                 2019-03-14  2019-04-03            344.180   \n",
       "...                      ...         ...                ...   \n",
       "49995             2020-05-05  2020-05-17          57437.424   \n",
       "49996             2020-03-12  2020-03-27          31652.840   \n",
       "49997             2020-03-24  2020-04-08            645.240   \n",
       "49998             2020-04-16  2020-05-06            219.730   \n",
       "49999             2020-05-08  2020-05-23           4332.640   \n",
       "\n",
       "      baseline_create_date cust_payment_terms    invoice_id  pay_time_days  \n",
       "0               2019-03-04               NAA8  1.928891e+09           15.0  \n",
       "1               2019-08-16               NAWN  1.929752e+09           75.0  \n",
       "2               2019-01-08               NAH4  1.928594e+09           14.0  \n",
       "3               2019-04-04               NAAX  1.929076e+09           14.0  \n",
       "4               2019-03-14               NAD1  1.928964e+09           20.0  \n",
       "...                    ...                ...           ...            ...  \n",
       "49995           2020-05-07               CA10  2.960633e+09            NaN  \n",
       "49996           2020-03-12               NAA8  1.930633e+09            NaN  \n",
       "49997           2020-03-16               NAM4  1.930690e+09            NaN  \n",
       "49998           2020-04-16               NAD1  1.930795e+09            NaN  \n",
       "49999           2020-05-08               NAH4  1.930874e+09            NaN  \n",
       "\n",
       "[49858 rows x 12 columns]"
      ]
     },
     "execution_count": 23,
     "metadata": {},
     "output_type": "execute_result"
    }
   ],
   "source": [
    "dataframe"
   ]
  },
  {
   "cell_type": "markdown",
   "metadata": {},
   "source": [
    "**Transpose the dataframe, so that the columns are the rows of the new dataframe.**"
   ]
  },
  {
   "cell_type": "code",
   "execution_count": 24,
   "metadata": {},
   "outputs": [
    {
     "data": {
      "text/html": [
       "<div>\n",
       "<style scoped>\n",
       "    .dataframe tbody tr th:only-of-type {\n",
       "        vertical-align: middle;\n",
       "    }\n",
       "\n",
       "    .dataframe tbody tr th {\n",
       "        vertical-align: top;\n",
       "    }\n",
       "\n",
       "    .dataframe thead th {\n",
       "        text-align: right;\n",
       "    }\n",
       "</style>\n",
       "<table border=\"1\" class=\"dataframe\">\n",
       "  <thead>\n",
       "    <tr style=\"text-align: right;\">\n",
       "      <th></th>\n",
       "      <th>0</th>\n",
       "      <th>1</th>\n",
       "      <th>2</th>\n",
       "      <th>3</th>\n",
       "      <th>4</th>\n",
       "      <th>5</th>\n",
       "      <th>6</th>\n",
       "      <th>7</th>\n",
       "      <th>8</th>\n",
       "      <th>9</th>\n",
       "      <th>...</th>\n",
       "      <th>49990</th>\n",
       "      <th>49991</th>\n",
       "      <th>49992</th>\n",
       "      <th>49993</th>\n",
       "      <th>49994</th>\n",
       "      <th>49995</th>\n",
       "      <th>49996</th>\n",
       "      <th>49997</th>\n",
       "      <th>49998</th>\n",
       "      <th>49999</th>\n",
       "    </tr>\n",
       "  </thead>\n",
       "  <tbody>\n",
       "    <tr>\n",
       "      <th>business_code</th>\n",
       "      <td>U001</td>\n",
       "      <td>U001</td>\n",
       "      <td>U001</td>\n",
       "      <td>U001</td>\n",
       "      <td>U001</td>\n",
       "      <td>U001</td>\n",
       "      <td>U001</td>\n",
       "      <td>U001</td>\n",
       "      <td>U001</td>\n",
       "      <td>U001</td>\n",
       "      <td>...</td>\n",
       "      <td>U001</td>\n",
       "      <td>U001</td>\n",
       "      <td>U001</td>\n",
       "      <td>U001</td>\n",
       "      <td>U001</td>\n",
       "      <td>CA02</td>\n",
       "      <td>U001</td>\n",
       "      <td>U001</td>\n",
       "      <td>U001</td>\n",
       "      <td>U001</td>\n",
       "    </tr>\n",
       "    <tr>\n",
       "      <th>cust_number</th>\n",
       "      <td>0200705742</td>\n",
       "      <td>0200744019</td>\n",
       "      <td>0200769623</td>\n",
       "      <td>0200794332</td>\n",
       "      <td>0200974851</td>\n",
       "      <td>0200769623</td>\n",
       "      <td>0100000158</td>\n",
       "      <td>0200769623</td>\n",
       "      <td>0200759878</td>\n",
       "      <td>0200769623</td>\n",
       "      <td>...</td>\n",
       "      <td>0200706844</td>\n",
       "      <td>0200769623</td>\n",
       "      <td>0200729942</td>\n",
       "      <td>0200732755</td>\n",
       "      <td>0200769623</td>\n",
       "      <td>0140106372</td>\n",
       "      <td>0200737918</td>\n",
       "      <td>0200353024</td>\n",
       "      <td>0200974851</td>\n",
       "      <td>0200769623</td>\n",
       "    </tr>\n",
       "    <tr>\n",
       "      <th>clear_date</th>\n",
       "      <td>2019-03-19 00:00:00</td>\n",
       "      <td>2019-10-30 00:00:00</td>\n",
       "      <td>2019-01-22 00:00:00</td>\n",
       "      <td>2019-04-18 00:00:00</td>\n",
       "      <td>2019-04-03 00:00:00</td>\n",
       "      <td>2019-09-27 00:00:00</td>\n",
       "      <td>2019-09-11 00:00:00</td>\n",
       "      <td>2019-10-16 00:00:00</td>\n",
       "      <td>2019-04-17 00:00:00</td>\n",
       "      <td>2019-09-16 00:00:00</td>\n",
       "      <td>...</td>\n",
       "      <td>NaT</td>\n",
       "      <td>NaT</td>\n",
       "      <td>NaT</td>\n",
       "      <td>NaT</td>\n",
       "      <td>NaT</td>\n",
       "      <td>NaT</td>\n",
       "      <td>NaT</td>\n",
       "      <td>NaT</td>\n",
       "      <td>NaT</td>\n",
       "      <td>NaT</td>\n",
       "    </tr>\n",
       "    <tr>\n",
       "      <th>doc_id</th>\n",
       "      <td>1.92889e+09</td>\n",
       "      <td>1.92975e+09</td>\n",
       "      <td>1.92859e+09</td>\n",
       "      <td>1.92908e+09</td>\n",
       "      <td>1.92896e+09</td>\n",
       "      <td>1.92988e+09</td>\n",
       "      <td>1.92937e+09</td>\n",
       "      <td>1.92994e+09</td>\n",
       "      <td>1.92905e+09</td>\n",
       "      <td>1.92977e+09</td>\n",
       "      <td>...</td>\n",
       "      <td>1.93069e+09</td>\n",
       "      <td>1.93071e+09</td>\n",
       "      <td>1.93065e+09</td>\n",
       "      <td>1.93068e+09</td>\n",
       "      <td>1.93061e+09</td>\n",
       "      <td>2.96063e+09</td>\n",
       "      <td>1.93063e+09</td>\n",
       "      <td>1.93069e+09</td>\n",
       "      <td>1.9308e+09</td>\n",
       "      <td>1.93087e+09</td>\n",
       "    </tr>\n",
       "    <tr>\n",
       "      <th>posting_date</th>\n",
       "      <td>2019-03-04 00:00:00</td>\n",
       "      <td>2019-08-16 00:00:00</td>\n",
       "      <td>2019-01-08 00:00:00</td>\n",
       "      <td>2019-04-04 00:00:00</td>\n",
       "      <td>2019-03-14 00:00:00</td>\n",
       "      <td>2019-09-17 00:00:00</td>\n",
       "      <td>2019-05-24 00:00:00</td>\n",
       "      <td>2019-09-30 00:00:00</td>\n",
       "      <td>2019-04-01 00:00:00</td>\n",
       "      <td>2019-08-23 00:00:00</td>\n",
       "      <td>...</td>\n",
       "      <td>2020-03-25 00:00:00</td>\n",
       "      <td>2020-03-27 00:00:00</td>\n",
       "      <td>2020-03-20 00:00:00</td>\n",
       "      <td>2020-03-21 00:00:00</td>\n",
       "      <td>2020-03-05 00:00:00</td>\n",
       "      <td>2020-05-05 00:00:00</td>\n",
       "      <td>2020-03-12 00:00:00</td>\n",
       "      <td>2020-03-24 00:00:00</td>\n",
       "      <td>2020-04-16 00:00:00</td>\n",
       "      <td>2020-05-08 00:00:00</td>\n",
       "    </tr>\n",
       "  </tbody>\n",
       "</table>\n",
       "<p>5 rows × 49858 columns</p>\n",
       "</div>"
      ],
      "text/plain": [
       "                             0                    1                    2      \\\n",
       "business_code                 U001                 U001                 U001   \n",
       "cust_number             0200705742           0200744019           0200769623   \n",
       "clear_date     2019-03-19 00:00:00  2019-10-30 00:00:00  2019-01-22 00:00:00   \n",
       "doc_id                 1.92889e+09          1.92975e+09          1.92859e+09   \n",
       "posting_date   2019-03-04 00:00:00  2019-08-16 00:00:00  2019-01-08 00:00:00   \n",
       "\n",
       "                             3                    4                    5      \\\n",
       "business_code                 U001                 U001                 U001   \n",
       "cust_number             0200794332           0200974851           0200769623   \n",
       "clear_date     2019-04-18 00:00:00  2019-04-03 00:00:00  2019-09-27 00:00:00   \n",
       "doc_id                 1.92908e+09          1.92896e+09          1.92988e+09   \n",
       "posting_date   2019-04-04 00:00:00  2019-03-14 00:00:00  2019-09-17 00:00:00   \n",
       "\n",
       "                             6                    7                    8      \\\n",
       "business_code                 U001                 U001                 U001   \n",
       "cust_number             0100000158           0200769623           0200759878   \n",
       "clear_date     2019-09-11 00:00:00  2019-10-16 00:00:00  2019-04-17 00:00:00   \n",
       "doc_id                 1.92937e+09          1.92994e+09          1.92905e+09   \n",
       "posting_date   2019-05-24 00:00:00  2019-09-30 00:00:00  2019-04-01 00:00:00   \n",
       "\n",
       "                             9      ...                49990  \\\n",
       "business_code                 U001  ...                 U001   \n",
       "cust_number             0200769623  ...           0200706844   \n",
       "clear_date     2019-09-16 00:00:00  ...                  NaT   \n",
       "doc_id                 1.92977e+09  ...          1.93069e+09   \n",
       "posting_date   2019-08-23 00:00:00  ...  2020-03-25 00:00:00   \n",
       "\n",
       "                             49991                49992                49993  \\\n",
       "business_code                 U001                 U001                 U001   \n",
       "cust_number             0200769623           0200729942           0200732755   \n",
       "clear_date                     NaT                  NaT                  NaT   \n",
       "doc_id                 1.93071e+09          1.93065e+09          1.93068e+09   \n",
       "posting_date   2020-03-27 00:00:00  2020-03-20 00:00:00  2020-03-21 00:00:00   \n",
       "\n",
       "                             49994                49995                49996  \\\n",
       "business_code                 U001                 CA02                 U001   \n",
       "cust_number             0200769623           0140106372           0200737918   \n",
       "clear_date                     NaT                  NaT                  NaT   \n",
       "doc_id                 1.93061e+09          2.96063e+09          1.93063e+09   \n",
       "posting_date   2020-03-05 00:00:00  2020-05-05 00:00:00  2020-03-12 00:00:00   \n",
       "\n",
       "                             49997                49998                49999  \n",
       "business_code                 U001                 U001                 U001  \n",
       "cust_number             0200353024           0200974851           0200769623  \n",
       "clear_date                     NaT                  NaT                  NaT  \n",
       "doc_id                 1.93069e+09           1.9308e+09          1.93087e+09  \n",
       "posting_date   2020-03-24 00:00:00  2020-04-16 00:00:00  2020-05-08 00:00:00  \n",
       "\n",
       "[5 rows x 49858 columns]"
      ]
     },
     "execution_count": 24,
     "metadata": {},
     "output_type": "execute_result"
    }
   ],
   "source": [
    "data_t = dataframe.T\n",
    "data_t.head()"
   ]
  },
  {
   "cell_type": "markdown",
   "metadata": {},
   "source": [
    "**Check if there are duplicated rows (the columns of the original dataframe) sum indicates how many rows are duplicated.**"
   ]
  },
  {
   "cell_type": "code",
   "execution_count": 25,
   "metadata": {},
   "outputs": [
    {
     "data": {
      "text/plain": [
       "2"
      ]
     },
     "execution_count": 25,
     "metadata": {},
     "output_type": "execute_result"
    }
   ],
   "source": [
    "data_t.duplicated().sum()"
   ]
  },
  {
   "cell_type": "markdown",
   "metadata": {},
   "source": [
    "**Visualise the duplicated rows (the columns of the original dataframe).**"
   ]
  },
  {
   "cell_type": "code",
   "execution_count": 26,
   "metadata": {},
   "outputs": [
    {
     "data": {
      "text/html": [
       "<div>\n",
       "<style scoped>\n",
       "    .dataframe tbody tr th:only-of-type {\n",
       "        vertical-align: middle;\n",
       "    }\n",
       "\n",
       "    .dataframe tbody tr th {\n",
       "        vertical-align: top;\n",
       "    }\n",
       "\n",
       "    .dataframe thead th {\n",
       "        text-align: right;\n",
       "    }\n",
       "</style>\n",
       "<table border=\"1\" class=\"dataframe\">\n",
       "  <thead>\n",
       "    <tr style=\"text-align: right;\">\n",
       "      <th></th>\n",
       "      <th>0</th>\n",
       "      <th>1</th>\n",
       "      <th>2</th>\n",
       "      <th>3</th>\n",
       "      <th>4</th>\n",
       "      <th>5</th>\n",
       "      <th>6</th>\n",
       "      <th>7</th>\n",
       "      <th>8</th>\n",
       "      <th>9</th>\n",
       "      <th>...</th>\n",
       "      <th>49990</th>\n",
       "      <th>49991</th>\n",
       "      <th>49992</th>\n",
       "      <th>49993</th>\n",
       "      <th>49994</th>\n",
       "      <th>49995</th>\n",
       "      <th>49996</th>\n",
       "      <th>49997</th>\n",
       "      <th>49998</th>\n",
       "      <th>49999</th>\n",
       "    </tr>\n",
       "  </thead>\n",
       "  <tbody>\n",
       "    <tr>\n",
       "      <th>document_create_date.1</th>\n",
       "      <td>2019-03-04 00:00:00</td>\n",
       "      <td>2019-08-16 00:00:00</td>\n",
       "      <td>2019-01-08 00:00:00</td>\n",
       "      <td>2019-04-04 00:00:00</td>\n",
       "      <td>2019-03-14 00:00:00</td>\n",
       "      <td>2019-09-17 00:00:00</td>\n",
       "      <td>2019-05-24 00:00:00</td>\n",
       "      <td>2019-09-30 00:00:00</td>\n",
       "      <td>2019-04-01 00:00:00</td>\n",
       "      <td>2019-08-23 00:00:00</td>\n",
       "      <td>...</td>\n",
       "      <td>2020-03-25 00:00:00</td>\n",
       "      <td>2020-03-27 00:00:00</td>\n",
       "      <td>2020-03-20 00:00:00</td>\n",
       "      <td>2020-03-21 00:00:00</td>\n",
       "      <td>2020-03-05 00:00:00</td>\n",
       "      <td>2020-05-05 00:00:00</td>\n",
       "      <td>2020-03-12 00:00:00</td>\n",
       "      <td>2020-03-24 00:00:00</td>\n",
       "      <td>2020-04-16 00:00:00</td>\n",
       "      <td>2020-05-08 00:00:00</td>\n",
       "    </tr>\n",
       "    <tr>\n",
       "      <th>invoice_id</th>\n",
       "      <td>1.92889e+09</td>\n",
       "      <td>1.92975e+09</td>\n",
       "      <td>1.92859e+09</td>\n",
       "      <td>1.92908e+09</td>\n",
       "      <td>1.92896e+09</td>\n",
       "      <td>1.92988e+09</td>\n",
       "      <td>1.92937e+09</td>\n",
       "      <td>1.92994e+09</td>\n",
       "      <td>1.92905e+09</td>\n",
       "      <td>1.92977e+09</td>\n",
       "      <td>...</td>\n",
       "      <td>1.93069e+09</td>\n",
       "      <td>1.93071e+09</td>\n",
       "      <td>1.93065e+09</td>\n",
       "      <td>1.93068e+09</td>\n",
       "      <td>1.93061e+09</td>\n",
       "      <td>2.96063e+09</td>\n",
       "      <td>1.93063e+09</td>\n",
       "      <td>1.93069e+09</td>\n",
       "      <td>1.9308e+09</td>\n",
       "      <td>1.93087e+09</td>\n",
       "    </tr>\n",
       "  </tbody>\n",
       "</table>\n",
       "<p>2 rows × 49858 columns</p>\n",
       "</div>"
      ],
      "text/plain": [
       "                                      0                    1      \\\n",
       "document_create_date.1  2019-03-04 00:00:00  2019-08-16 00:00:00   \n",
       "invoice_id                      1.92889e+09          1.92975e+09   \n",
       "\n",
       "                                      2                    3      \\\n",
       "document_create_date.1  2019-01-08 00:00:00  2019-04-04 00:00:00   \n",
       "invoice_id                      1.92859e+09          1.92908e+09   \n",
       "\n",
       "                                      4                    5      \\\n",
       "document_create_date.1  2019-03-14 00:00:00  2019-09-17 00:00:00   \n",
       "invoice_id                      1.92896e+09          1.92988e+09   \n",
       "\n",
       "                                      6                    7      \\\n",
       "document_create_date.1  2019-05-24 00:00:00  2019-09-30 00:00:00   \n",
       "invoice_id                      1.92937e+09          1.92994e+09   \n",
       "\n",
       "                                      8                    9      ...  \\\n",
       "document_create_date.1  2019-04-01 00:00:00  2019-08-23 00:00:00  ...   \n",
       "invoice_id                      1.92905e+09          1.92977e+09  ...   \n",
       "\n",
       "                                      49990                49991  \\\n",
       "document_create_date.1  2020-03-25 00:00:00  2020-03-27 00:00:00   \n",
       "invoice_id                      1.93069e+09          1.93071e+09   \n",
       "\n",
       "                                      49992                49993  \\\n",
       "document_create_date.1  2020-03-20 00:00:00  2020-03-21 00:00:00   \n",
       "invoice_id                      1.93065e+09          1.93068e+09   \n",
       "\n",
       "                                      49994                49995  \\\n",
       "document_create_date.1  2020-03-05 00:00:00  2020-05-05 00:00:00   \n",
       "invoice_id                      1.93061e+09          2.96063e+09   \n",
       "\n",
       "                                      49996                49997  \\\n",
       "document_create_date.1  2020-03-12 00:00:00  2020-03-24 00:00:00   \n",
       "invoice_id                      1.93063e+09          1.93069e+09   \n",
       "\n",
       "                                      49998                49999  \n",
       "document_create_date.1  2020-04-16 00:00:00  2020-05-08 00:00:00  \n",
       "invoice_id                       1.9308e+09          1.93087e+09  \n",
       "\n",
       "[2 rows x 49858 columns]"
      ]
     },
     "execution_count": 26,
     "metadata": {},
     "output_type": "execute_result"
    }
   ],
   "source": [
    "data_t[data_t.duplicated()]"
   ]
  },
  {
   "cell_type": "markdown",
   "metadata": {},
   "source": [
    "**We can capture the duplicated features, by capturing the index values of the transposed dataframe.**"
   ]
  },
  {
   "cell_type": "code",
   "execution_count": 27,
   "metadata": {},
   "outputs": [
    {
     "data": {
      "text/plain": [
       "array(['document_create_date.1', 'invoice_id'], dtype=object)"
      ]
     },
     "execution_count": 27,
     "metadata": {},
     "output_type": "execute_result"
    }
   ],
   "source": [
    "duplicated_features = data_t[data_t.duplicated()].index.values\n",
    "duplicated_features"
   ]
  },
  {
   "cell_type": "markdown",
   "metadata": {},
   "source": [
    "**Alternatively, we can remove the duplicated rows, transpose the dataframe back to the variables as columns keep last indicates that we keep the last of a set of duplicated variables.**"
   ]
  },
  {
   "cell_type": "code",
   "execution_count": 28,
   "metadata": {},
   "outputs": [
    {
     "data": {
      "text/plain": [
       "(49858, 10)"
      ]
     },
     "execution_count": 28,
     "metadata": {},
     "output_type": "execute_result"
    }
   ],
   "source": [
    "data = data_t.drop_duplicates(keep='last').T\n",
    "data.shape"
   ]
  },
  {
   "cell_type": "markdown",
   "metadata": {},
   "source": [
    "**Now we have no use of invoice id in our prediction so we will drop it.**"
   ]
  },
  {
   "cell_type": "code",
   "execution_count": 29,
   "metadata": {},
   "outputs": [],
   "source": [
    "data.drop('invoice_id',axis=1,inplace=True)"
   ]
  },
  {
   "cell_type": "code",
   "execution_count": 30,
   "metadata": {},
   "outputs": [
    {
     "data": {
      "text/html": [
       "<div>\n",
       "<style scoped>\n",
       "    .dataframe tbody tr th:only-of-type {\n",
       "        vertical-align: middle;\n",
       "    }\n",
       "\n",
       "    .dataframe tbody tr th {\n",
       "        vertical-align: top;\n",
       "    }\n",
       "\n",
       "    .dataframe thead th {\n",
       "        text-align: right;\n",
       "    }\n",
       "</style>\n",
       "<table border=\"1\" class=\"dataframe\">\n",
       "  <thead>\n",
       "    <tr style=\"text-align: right;\">\n",
       "      <th></th>\n",
       "      <th>business_code</th>\n",
       "      <th>cust_number</th>\n",
       "      <th>clear_date</th>\n",
       "      <th>document_create_date.1</th>\n",
       "      <th>due_in_date</th>\n",
       "      <th>total_open_amount</th>\n",
       "      <th>baseline_create_date</th>\n",
       "      <th>cust_payment_terms</th>\n",
       "      <th>pay_time_days</th>\n",
       "    </tr>\n",
       "  </thead>\n",
       "  <tbody>\n",
       "    <tr>\n",
       "      <th>0</th>\n",
       "      <td>U001</td>\n",
       "      <td>0200705742</td>\n",
       "      <td>2019-03-19</td>\n",
       "      <td>2019-03-04</td>\n",
       "      <td>2019-03-19</td>\n",
       "      <td>4367.76</td>\n",
       "      <td>2019-03-04</td>\n",
       "      <td>NAA8</td>\n",
       "      <td>15</td>\n",
       "    </tr>\n",
       "    <tr>\n",
       "      <th>1</th>\n",
       "      <td>U001</td>\n",
       "      <td>0200744019</td>\n",
       "      <td>2019-10-30</td>\n",
       "      <td>2019-08-16</td>\n",
       "      <td>2019-10-30</td>\n",
       "      <td>370.18</td>\n",
       "      <td>2019-08-16</td>\n",
       "      <td>NAWN</td>\n",
       "      <td>75</td>\n",
       "    </tr>\n",
       "    <tr>\n",
       "      <th>2</th>\n",
       "      <td>U001</td>\n",
       "      <td>0200769623</td>\n",
       "      <td>2019-01-22</td>\n",
       "      <td>2019-01-08</td>\n",
       "      <td>2019-01-23</td>\n",
       "      <td>1696.54</td>\n",
       "      <td>2019-01-08</td>\n",
       "      <td>NAH4</td>\n",
       "      <td>14</td>\n",
       "    </tr>\n",
       "    <tr>\n",
       "      <th>3</th>\n",
       "      <td>U001</td>\n",
       "      <td>0200794332</td>\n",
       "      <td>2019-04-18</td>\n",
       "      <td>2019-04-04</td>\n",
       "      <td>2019-04-19</td>\n",
       "      <td>118368</td>\n",
       "      <td>2019-04-04</td>\n",
       "      <td>NAAX</td>\n",
       "      <td>14</td>\n",
       "    </tr>\n",
       "    <tr>\n",
       "      <th>4</th>\n",
       "      <td>U001</td>\n",
       "      <td>0200974851</td>\n",
       "      <td>2019-04-03</td>\n",
       "      <td>2019-03-14</td>\n",
       "      <td>2019-04-03</td>\n",
       "      <td>344.18</td>\n",
       "      <td>2019-03-14</td>\n",
       "      <td>NAD1</td>\n",
       "      <td>20</td>\n",
       "    </tr>\n",
       "    <tr>\n",
       "      <th>...</th>\n",
       "      <td>...</td>\n",
       "      <td>...</td>\n",
       "      <td>...</td>\n",
       "      <td>...</td>\n",
       "      <td>...</td>\n",
       "      <td>...</td>\n",
       "      <td>...</td>\n",
       "      <td>...</td>\n",
       "      <td>...</td>\n",
       "    </tr>\n",
       "    <tr>\n",
       "      <th>49995</th>\n",
       "      <td>CA02</td>\n",
       "      <td>0140106372</td>\n",
       "      <td>NaT</td>\n",
       "      <td>2020-05-05</td>\n",
       "      <td>2020-05-17</td>\n",
       "      <td>57437.4</td>\n",
       "      <td>2020-05-07</td>\n",
       "      <td>CA10</td>\n",
       "      <td>NaN</td>\n",
       "    </tr>\n",
       "    <tr>\n",
       "      <th>49996</th>\n",
       "      <td>U001</td>\n",
       "      <td>0200737918</td>\n",
       "      <td>NaT</td>\n",
       "      <td>2020-03-12</td>\n",
       "      <td>2020-03-27</td>\n",
       "      <td>31652.8</td>\n",
       "      <td>2020-03-12</td>\n",
       "      <td>NAA8</td>\n",
       "      <td>NaN</td>\n",
       "    </tr>\n",
       "    <tr>\n",
       "      <th>49997</th>\n",
       "      <td>U001</td>\n",
       "      <td>0200353024</td>\n",
       "      <td>NaT</td>\n",
       "      <td>2020-03-24</td>\n",
       "      <td>2020-04-08</td>\n",
       "      <td>645.24</td>\n",
       "      <td>2020-03-16</td>\n",
       "      <td>NAM4</td>\n",
       "      <td>NaN</td>\n",
       "    </tr>\n",
       "    <tr>\n",
       "      <th>49998</th>\n",
       "      <td>U001</td>\n",
       "      <td>0200974851</td>\n",
       "      <td>NaT</td>\n",
       "      <td>2020-04-16</td>\n",
       "      <td>2020-05-06</td>\n",
       "      <td>219.73</td>\n",
       "      <td>2020-04-16</td>\n",
       "      <td>NAD1</td>\n",
       "      <td>NaN</td>\n",
       "    </tr>\n",
       "    <tr>\n",
       "      <th>49999</th>\n",
       "      <td>U001</td>\n",
       "      <td>0200769623</td>\n",
       "      <td>NaT</td>\n",
       "      <td>2020-05-08</td>\n",
       "      <td>2020-05-23</td>\n",
       "      <td>4332.64</td>\n",
       "      <td>2020-05-08</td>\n",
       "      <td>NAH4</td>\n",
       "      <td>NaN</td>\n",
       "    </tr>\n",
       "  </tbody>\n",
       "</table>\n",
       "<p>49858 rows × 9 columns</p>\n",
       "</div>"
      ],
      "text/plain": [
       "      business_code cust_number clear_date document_create_date.1 due_in_date  \\\n",
       "0              U001  0200705742 2019-03-19             2019-03-04  2019-03-19   \n",
       "1              U001  0200744019 2019-10-30             2019-08-16  2019-10-30   \n",
       "2              U001  0200769623 2019-01-22             2019-01-08  2019-01-23   \n",
       "3              U001  0200794332 2019-04-18             2019-04-04  2019-04-19   \n",
       "4              U001  0200974851 2019-04-03             2019-03-14  2019-04-03   \n",
       "...             ...         ...        ...                    ...         ...   \n",
       "49995          CA02  0140106372        NaT             2020-05-05  2020-05-17   \n",
       "49996          U001  0200737918        NaT             2020-03-12  2020-03-27   \n",
       "49997          U001  0200353024        NaT             2020-03-24  2020-04-08   \n",
       "49998          U001  0200974851        NaT             2020-04-16  2020-05-06   \n",
       "49999          U001  0200769623        NaT             2020-05-08  2020-05-23   \n",
       "\n",
       "      total_open_amount baseline_create_date cust_payment_terms pay_time_days  \n",
       "0               4367.76           2019-03-04               NAA8            15  \n",
       "1                370.18           2019-08-16               NAWN            75  \n",
       "2               1696.54           2019-01-08               NAH4            14  \n",
       "3                118368           2019-04-04               NAAX            14  \n",
       "4                344.18           2019-03-14               NAD1            20  \n",
       "...                 ...                  ...                ...           ...  \n",
       "49995           57437.4           2020-05-07               CA10           NaN  \n",
       "49996           31652.8           2020-03-12               NAA8           NaN  \n",
       "49997            645.24           2020-03-16               NAM4           NaN  \n",
       "49998            219.73           2020-04-16               NAD1           NaN  \n",
       "49999           4332.64           2020-05-08               NAH4           NaN  \n",
       "\n",
       "[49858 rows x 9 columns]"
      ]
     },
     "execution_count": 30,
     "metadata": {},
     "output_type": "execute_result"
    }
   ],
   "source": [
    "data"
   ]
  },
  {
   "cell_type": "code",
   "execution_count": 31,
   "metadata": {},
   "outputs": [],
   "source": [
    "data['total_open_amount']=data['total_open_amount'].astype(float)"
   ]
  },
  {
   "cell_type": "markdown",
   "metadata": {},
   "source": [
    "**And in this case if the value in the target variable is NULL then put it in the test set.**"
   ]
  },
  {
   "cell_type": "markdown",
   "metadata": {},
   "source": [
    "**Reason for splitting on date basis :- Since in some of the use cases we will always be making prediction for the future data so in this case we will have to make the train, validation, and test split on the basis of date instead of random split. For example if we are training the model for data between january to september then the validation set can be from october to mid of november and test set can be from mid of november and onwards.**"
   ]
  },
  {
   "cell_type": "code",
   "execution_count": 32,
   "metadata": {},
   "outputs": [
    {
     "data": {
      "text/plain": [
       "(49858, 9)"
      ]
     },
     "execution_count": 32,
     "metadata": {},
     "output_type": "execute_result"
    }
   ],
   "source": [
    "data.shape"
   ]
  },
  {
   "cell_type": "code",
   "execution_count": 33,
   "metadata": {},
   "outputs": [
    {
     "data": {
      "text/plain": [
       "(3569, 9)"
      ]
     },
     "execution_count": 33,
     "metadata": {},
     "output_type": "execute_result"
    }
   ],
   "source": [
    "test=data[data['clear_date'].isnull()]\n",
    "test.shape"
   ]
  },
  {
   "cell_type": "code",
   "execution_count": 34,
   "metadata": {},
   "outputs": [
    {
     "data": {
      "text/plain": [
       "(46289, 9)"
      ]
     },
     "execution_count": 34,
     "metadata": {},
     "output_type": "execute_result"
    }
   ],
   "source": [
    "REST= data[data['clear_date'].notnull()]\n",
    "REST.shape"
   ]
  },
  {
   "cell_type": "code",
   "execution_count": 35,
   "metadata": {},
   "outputs": [
    {
     "data": {
      "text/plain": [
       "((32402, 9), (13887, 9))"
      ]
     },
     "execution_count": 35,
     "metadata": {},
     "output_type": "execute_result"
    }
   ],
   "source": [
    "\n",
    "#70% of data is with temp \n",
    "train, X_validation = train_test_split(REST,test_size=.3, shuffle = \"False\")\n",
    "train.shape,X_validation.shape\n"
   ]
  },
  {
   "cell_type": "code",
   "execution_count": 36,
   "metadata": {},
   "outputs": [
    {
     "data": {
      "text/plain": [
       "((6943, 9), (6944, 9))"
      ]
     },
     "execution_count": 36,
     "metadata": {},
     "output_type": "execute_result"
    }
   ],
   "source": [
    "\n",
    "val1, val2 = train_test_split(X_validation,test_size=.5, shuffle = \"False\")\n",
    "val1.shape,val2.shape"
   ]
  },
  {
   "cell_type": "code",
   "execution_count": null,
   "metadata": {},
   "outputs": [],
   "source": []
  },
  {
   "cell_type": "code",
   "execution_count": 37,
   "metadata": {},
   "outputs": [
    {
     "data": {
      "text/plain": [
       "((32402, 9), (3569, 9))"
      ]
     },
     "execution_count": 37,
     "metadata": {},
     "output_type": "execute_result"
    }
   ],
   "source": [
    "train.shape,test.shape"
   ]
  },
  {
   "cell_type": "markdown",
   "metadata": {},
   "source": [
    "**Baseline create date can not be after the clear date so removing that rows which satisfies the condition that baseline create date date is after the clear date**"
   ]
  },
  {
   "cell_type": "code",
   "execution_count": 38,
   "metadata": {},
   "outputs": [
    {
     "data": {
      "text/html": [
       "<div>\n",
       "<style scoped>\n",
       "    .dataframe tbody tr th:only-of-type {\n",
       "        vertical-align: middle;\n",
       "    }\n",
       "\n",
       "    .dataframe tbody tr th {\n",
       "        vertical-align: top;\n",
       "    }\n",
       "\n",
       "    .dataframe thead th {\n",
       "        text-align: right;\n",
       "    }\n",
       "</style>\n",
       "<table border=\"1\" class=\"dataframe\">\n",
       "  <thead>\n",
       "    <tr style=\"text-align: right;\">\n",
       "      <th></th>\n",
       "      <th>business_code</th>\n",
       "      <th>cust_number</th>\n",
       "      <th>clear_date</th>\n",
       "      <th>document_create_date.1</th>\n",
       "      <th>due_in_date</th>\n",
       "      <th>total_open_amount</th>\n",
       "      <th>baseline_create_date</th>\n",
       "      <th>cust_payment_terms</th>\n",
       "      <th>pay_time_days</th>\n",
       "    </tr>\n",
       "  </thead>\n",
       "  <tbody>\n",
       "    <tr>\n",
       "      <th>33121</th>\n",
       "      <td>U001</td>\n",
       "      <td>0200744019</td>\n",
       "      <td>2019-08-02</td>\n",
       "      <td>2019-07-20</td>\n",
       "      <td>2019-08-04</td>\n",
       "      <td>4893.8500</td>\n",
       "      <td>2019-07-20</td>\n",
       "      <td>NAA8</td>\n",
       "      <td>13</td>\n",
       "    </tr>\n",
       "    <tr>\n",
       "      <th>23533</th>\n",
       "      <td>U001</td>\n",
       "      <td>0200744019</td>\n",
       "      <td>2019-10-22</td>\n",
       "      <td>2019-10-05</td>\n",
       "      <td>2019-10-20</td>\n",
       "      <td>48931.1200</td>\n",
       "      <td>2019-10-05</td>\n",
       "      <td>NAA8</td>\n",
       "      <td>17</td>\n",
       "    </tr>\n",
       "    <tr>\n",
       "      <th>45158</th>\n",
       "      <td>U001</td>\n",
       "      <td>0200744019</td>\n",
       "      <td>2019-10-29</td>\n",
       "      <td>2019-10-11</td>\n",
       "      <td>2019-10-26</td>\n",
       "      <td>7664.5400</td>\n",
       "      <td>2019-10-11</td>\n",
       "      <td>NAA8</td>\n",
       "      <td>18</td>\n",
       "    </tr>\n",
       "    <tr>\n",
       "      <th>31167</th>\n",
       "      <td>U001</td>\n",
       "      <td>0200713007</td>\n",
       "      <td>2019-02-20</td>\n",
       "      <td>2019-02-06</td>\n",
       "      <td>2019-02-21</td>\n",
       "      <td>55084.5200</td>\n",
       "      <td>2019-02-06</td>\n",
       "      <td>NAA8</td>\n",
       "      <td>14</td>\n",
       "    </tr>\n",
       "    <tr>\n",
       "      <th>39480</th>\n",
       "      <td>U001</td>\n",
       "      <td>0200769623</td>\n",
       "      <td>2020-02-05</td>\n",
       "      <td>2020-01-26</td>\n",
       "      <td>2020-02-10</td>\n",
       "      <td>14727.1600</td>\n",
       "      <td>2020-01-26</td>\n",
       "      <td>NAH4</td>\n",
       "      <td>10</td>\n",
       "    </tr>\n",
       "    <tr>\n",
       "      <th>...</th>\n",
       "      <td>...</td>\n",
       "      <td>...</td>\n",
       "      <td>...</td>\n",
       "      <td>...</td>\n",
       "      <td>...</td>\n",
       "      <td>...</td>\n",
       "      <td>...</td>\n",
       "      <td>...</td>\n",
       "      <td>...</td>\n",
       "    </tr>\n",
       "    <tr>\n",
       "      <th>27699</th>\n",
       "      <td>U001</td>\n",
       "      <td>0200743592</td>\n",
       "      <td>2019-11-20</td>\n",
       "      <td>2019-11-08</td>\n",
       "      <td>2019-11-23</td>\n",
       "      <td>51438.3500</td>\n",
       "      <td>2019-11-08</td>\n",
       "      <td>NAA8</td>\n",
       "      <td>12</td>\n",
       "    </tr>\n",
       "    <tr>\n",
       "      <th>36481</th>\n",
       "      <td>U001</td>\n",
       "      <td>0200920735</td>\n",
       "      <td>2019-11-07</td>\n",
       "      <td>2019-10-23</td>\n",
       "      <td>2019-11-07</td>\n",
       "      <td>68869.1000</td>\n",
       "      <td>2019-10-23</td>\n",
       "      <td>NAA8</td>\n",
       "      <td>15</td>\n",
       "    </tr>\n",
       "    <tr>\n",
       "      <th>26534</th>\n",
       "      <td>U001</td>\n",
       "      <td>0100001196</td>\n",
       "      <td>2019-10-15</td>\n",
       "      <td>2019-09-23</td>\n",
       "      <td>2019-10-08</td>\n",
       "      <td>23149.7100</td>\n",
       "      <td>2019-09-23</td>\n",
       "      <td>NAA8</td>\n",
       "      <td>22</td>\n",
       "    </tr>\n",
       "    <tr>\n",
       "      <th>18191</th>\n",
       "      <td>CA02</td>\n",
       "      <td>0140105686</td>\n",
       "      <td>2020-03-19</td>\n",
       "      <td>2020-02-25</td>\n",
       "      <td>2020-03-13</td>\n",
       "      <td>4658.9855</td>\n",
       "      <td>2020-03-03</td>\n",
       "      <td>CA10</td>\n",
       "      <td>23</td>\n",
       "    </tr>\n",
       "    <tr>\n",
       "      <th>32558</th>\n",
       "      <td>U001</td>\n",
       "      <td>0200759878</td>\n",
       "      <td>2019-02-14</td>\n",
       "      <td>2019-01-30</td>\n",
       "      <td>2019-02-14</td>\n",
       "      <td>32207.0300</td>\n",
       "      <td>2019-01-30</td>\n",
       "      <td>NAH4</td>\n",
       "      <td>15</td>\n",
       "    </tr>\n",
       "  </tbody>\n",
       "</table>\n",
       "<p>32396 rows × 9 columns</p>\n",
       "</div>"
      ],
      "text/plain": [
       "      business_code cust_number clear_date document_create_date.1 due_in_date  \\\n",
       "33121          U001  0200744019 2019-08-02             2019-07-20  2019-08-04   \n",
       "23533          U001  0200744019 2019-10-22             2019-10-05  2019-10-20   \n",
       "45158          U001  0200744019 2019-10-29             2019-10-11  2019-10-26   \n",
       "31167          U001  0200713007 2019-02-20             2019-02-06  2019-02-21   \n",
       "39480          U001  0200769623 2020-02-05             2020-01-26  2020-02-10   \n",
       "...             ...         ...        ...                    ...         ...   \n",
       "27699          U001  0200743592 2019-11-20             2019-11-08  2019-11-23   \n",
       "36481          U001  0200920735 2019-11-07             2019-10-23  2019-11-07   \n",
       "26534          U001  0100001196 2019-10-15             2019-09-23  2019-10-08   \n",
       "18191          CA02  0140105686 2020-03-19             2020-02-25  2020-03-13   \n",
       "32558          U001  0200759878 2019-02-14             2019-01-30  2019-02-14   \n",
       "\n",
       "       total_open_amount baseline_create_date cust_payment_terms pay_time_days  \n",
       "33121          4893.8500           2019-07-20               NAA8            13  \n",
       "23533         48931.1200           2019-10-05               NAA8            17  \n",
       "45158          7664.5400           2019-10-11               NAA8            18  \n",
       "31167         55084.5200           2019-02-06               NAA8            14  \n",
       "39480         14727.1600           2020-01-26               NAH4            10  \n",
       "...                  ...                  ...                ...           ...  \n",
       "27699         51438.3500           2019-11-08               NAA8            12  \n",
       "36481         68869.1000           2019-10-23               NAA8            15  \n",
       "26534         23149.7100           2019-09-23               NAA8            22  \n",
       "18191          4658.9855           2020-03-03               CA10            23  \n",
       "32558         32207.0300           2019-01-30               NAH4            15  \n",
       "\n",
       "[32396 rows x 9 columns]"
      ]
     },
     "execution_count": 38,
     "metadata": {},
     "output_type": "execute_result"
    }
   ],
   "source": [
    "train.drop(train[train['baseline_create_date'] > train['clear_date']].index,inplace=True)\n",
    "train"
   ]
  },
  {
   "cell_type": "markdown",
   "metadata": {},
   "source": [
    "**Document create date can not be after the clear date so removing that rows which satisfies the condition that document create date is after the clear date**"
   ]
  },
  {
   "cell_type": "code",
   "execution_count": null,
   "metadata": {},
   "outputs": [],
   "source": [
    "train.drop(train[train['document_create_date.1'] > train['clear_date']].index,inplace=True)\n",
    "train"
   ]
  },
  {
   "cell_type": "markdown",
   "metadata": {},
   "source": [
    "**Finding the delay column in days**"
   ]
  },
  {
   "cell_type": "code",
   "execution_count": null,
   "metadata": {},
   "outputs": [],
   "source": [
    "train['delay'] = (train['clear_date'] - train['due_in_date']).dt.days\n",
    "train"
   ]
  },
  {
   "cell_type": "markdown",
   "metadata": {},
   "source": [
    "**Plotting the boxplot of delay column**"
   ]
  },
  {
   "cell_type": "code",
   "execution_count": null,
   "metadata": {},
   "outputs": [],
   "source": [
    "plt.figure(figsize=(8,8))\n",
    "sns.set_theme(style=\"whitegrid\")\n",
    "sns.boxplot(x=train['delay'],width=0.8,color=\"red\",whis=1.5,fliersize=5)"
   ]
  },
  {
   "cell_type": "code",
   "execution_count": null,
   "metadata": {},
   "outputs": [],
   "source": [
    "delay_list = list(train['delay'])\n",
    "delay_list"
   ]
  },
  {
   "cell_type": "markdown",
   "metadata": {},
   "source": [
    "**Minimum no of days taken by the customer to clear his payment** "
   ]
  },
  {
   "cell_type": "code",
   "execution_count": null,
   "metadata": {},
   "outputs": [],
   "source": [
    "min(delay_list)"
   ]
  },
  {
   "cell_type": "markdown",
   "metadata": {},
   "source": [
    "**It is negative as the customer is paying before the expected date**"
   ]
  },
  {
   "cell_type": "markdown",
   "metadata": {},
   "source": [
    "**Maximum no of days taken by the customer to clear his payments"
   ]
  },
  {
   "cell_type": "code",
   "execution_count": null,
   "metadata": {},
   "outputs": [],
   "source": [
    "max(delay_list)"
   ]
  },
  {
   "cell_type": "markdown",
   "metadata": {},
   "source": [
    "**Checking the outliers**"
   ]
  },
  {
   "cell_type": "code",
   "execution_count": null,
   "metadata": {},
   "outputs": [],
   "source": [
    "IQR=train['delay'].quantile(0.75)-train['delay'].quantile(0.25)\n",
    "lower_boundary=train['delay'].quantile(0.25)-(IQR*3)\n",
    "upper_boundary=train['delay'].quantile(0.75)+(IQR*3)\n",
    "print(lower_boundary)\n",
    "print(upper_boundary)"
   ]
  },
  {
   "cell_type": "markdown",
   "metadata": {},
   "source": [
    "**Plotting the frequency graph acc to some range**"
   ]
  },
  {
   "cell_type": "code",
   "execution_count": null,
   "metadata": {},
   "outputs": [],
   "source": [
    "bins = [-120,-30,-15,0,15,30,45,60,300]\n",
    "plt.hist(delay_list,bins,histtype='bar',rwidth=0.9,color='red')\n",
    "plt.xlabel('delay')\n",
    "plt.ylabel('frequency')\n",
    "plt.title('Bar Graph')\n",
    "plt.show"
   ]
  },
  {
   "cell_type": "markdown",
   "metadata": {},
   "source": [
    "**Counts in the particular ranges**"
   ]
  },
  {
   "cell_type": "code",
   "execution_count": null,
   "metadata": {},
   "outputs": [],
   "source": [
    "delay_bucket = pd.cut(delay_list,bins=bins)\n",
    "delay_bucket.value_counts()"
   ]
  },
  {
   "cell_type": "markdown",
   "metadata": {},
   "source": [
    "**Gaussian Transformation**"
   ]
  },
  {
   "cell_type": "markdown",
   "metadata": {},
   "source": [
    "Some machine learning models like linear and logistic regression assume that the variables are normally distributed. Others benefit from \"Gaussian-like\" distributions, as in such distributions the observations of X available to predict Y vary across a greater range of values. Thus, Gaussian distributed variables may boost the machine learning algorithm performance.\n",
    "\n",
    "If a variable is not normally distributed, sometimes it is possible to find a mathematical transformation so that the transformed variable is Gaussian."
   ]
  },
  {
   "cell_type": "code",
   "execution_count": null,
   "metadata": {},
   "outputs": [],
   "source": [
    "import matplotlib.pyplot as plt\n",
    "%matplotlib inline\n",
    "\n",
    "import pylab \n",
    "import scipy.stats as stats\n",
    "def impute_na(data, variable):\n",
    "   \n",
    "    df = data.copy()\n",
    "    \n",
    "    # random sampling\n",
    "    df[variable+'_random'] = df[variable]\n",
    "    \n",
    "    # extract the random sample to fill the na\n",
    "    random_sample = df[variable].dropna().sample(df[variable].isnull().sum(), random_state=0)\n",
    "    \n",
    "    # pandas needs to have the same index in order to merge datasets\n",
    "    random_sample.index = df[df[variable].isnull()].index\n",
    "    df.loc[df[variable].isnull(), variable+'_random'] = random_sample\n",
    "    \n",
    "    return df[variable+'_random']"
   ]
  },
  {
   "cell_type": "code",
   "execution_count": null,
   "metadata": {},
   "outputs": [],
   "source": [
    "data['delay'] = impute_na(train, 'delay')"
   ]
  },
  {
   "cell_type": "code",
   "execution_count": null,
   "metadata": {},
   "outputs": [],
   "source": [
    "def diagnostic_plots(df, variable):\n",
    "    # function to plot a histogram and a Q-Q plot\n",
    "    # side by side, for a certain variable\n",
    "    \n",
    "    plt.figure(figsize=(15,6))\n",
    "    plt.subplot(1, 2, 1)\n",
    "    df[variable].hist()\n",
    "\n",
    "    plt.subplot(1, 2, 2)\n",
    "    stats.probplot(df[variable], dist=\"norm\", plot=pylab)\n",
    "\n",
    "    plt.show()\n",
    "    \n",
    "diagnostic_plots(data, 'delay')"
   ]
  },
  {
   "cell_type": "markdown",
   "metadata": {},
   "source": [
    "**Plotting the kde plot to check if the delay column is skewed or normally distributed**"
   ]
  },
  {
   "cell_type": "code",
   "execution_count": null,
   "metadata": {},
   "outputs": [],
   "source": [
    "sns.displot(train['delay'],kind='kde',cut=0)"
   ]
  },
  {
   "cell_type": "markdown",
   "metadata": {},
   "source": [
    "**We can see that this is already in Normal Distribution. We do no need to change it.**"
   ]
  },
  {
   "cell_type": "code",
   "execution_count": null,
   "metadata": {},
   "outputs": [],
   "source": [
    "bin1 = [0,5000,10000,50000,100000,500000,7500000]\n",
    "list1 = list(train['total_open_amount'])\n",
    "total_bucket = pd.cut(list1,bins=bin1)"
   ]
  },
  {
   "cell_type": "code",
   "execution_count": null,
   "metadata": {},
   "outputs": [],
   "source": [
    "pd.crosstab(index = total_bucket,columns = delay_bucket)"
   ]
  },
  {
   "cell_type": "markdown",
   "metadata": {},
   "source": [
    "**Plotting delay with the total_open_amount**"
   ]
  },
  {
   "cell_type": "code",
   "execution_count": null,
   "metadata": {},
   "outputs": [],
   "source": [
    "plt.figure(figsize=(10,10))\n",
    "plt.xlabel('Amount bin')\n",
    "sns.countplot(x = total_bucket,hue=delay_bucket)"
   ]
  },
  {
   "cell_type": "code",
   "execution_count": null,
   "metadata": {},
   "outputs": [],
   "source": [
    "sns.catplot(x = 'business_code',y='total_open_amount',data=train,jitter=True)"
   ]
  },
  {
   "cell_type": "code",
   "execution_count": null,
   "metadata": {},
   "outputs": [],
   "source": [
    "plt.figure(figsize=(20,10))\n",
    "sns.lineplot(train['due_in_date'].dt.week,train['delay'])\n",
    "plt.xlabel(\"Invoice Due Date\")\n",
    "plt.ylabel(\"Delay in Payment\")\n",
    "plt.show()"
   ]
  },
  {
   "cell_type": "code",
   "execution_count": null,
   "metadata": {},
   "outputs": [],
   "source": [
    "train.sort_values(by='document_create_date.1',inplace=True)\n",
    "train\n",
    "train.reset_index(drop=True,inplace=True)"
   ]
  },
  {
   "cell_type": "code",
   "execution_count": null,
   "metadata": {},
   "outputs": [],
   "source": [
    "train,val=train_test_split(train,test_size=0.2,shuffle=False,random_state=None)\n",
    "val1,val2=train_test_split(val,test_size=0.5,shuffle=False,random_state=None)"
   ]
  },
  {
   "cell_type": "markdown",
   "metadata": {},
   "source": [
    "# Cardinality"
   ]
  },
  {
   "cell_type": "markdown",
   "metadata": {},
   "source": [
    "Cardinality meaning the number of elements in a set or other grouping, as a property of that grouping."
   ]
  },
  {
   "cell_type": "code",
   "execution_count": null,
   "metadata": {},
   "outputs": [],
   "source": [
    "# let's inspect the cardinality, this is the number\n",
    "# of different labels, for the different categorical variables\n",
    "\n",
    "print('Number of categories in the variable bussiness_code in data set: {}'.format(\n",
    "    len(data.business_code.unique())))\n",
    "print('Number of categories in the variable bussiness_code in Train set : {}'.format(\n",
    "    len(train.business_code.unique())))\n",
    "print('Number of categories in the variable bussiness_code in Test set: {}'.format(\n",
    "    len(test.business_code.unique())))\n",
    "print('Number of categories in the variable cust_payment_terms in data set: {}'.format(\n",
    "    len(data.cust_payment_terms.unique())))\n",
    "print('Number of categories in the variable cust_payment_terms in Train set : {}'.format(\n",
    "    len(train.cust_payment_terms.unique())))\n",
    "print('Number of categories in the variable cust_payment_terms in Test set: {}'.format(\n",
    "    len(test.cust_payment_terms.unique())))\n",
    "\n"
   ]
  },
  {
   "cell_type": "code",
   "execution_count": null,
   "metadata": {},
   "outputs": [],
   "source": [
    "unique_to_train_set_bussuiness_code = [\n",
    "    x for x in train.business_code.unique() if x not in test.business_code.unique()\n",
    "]\n",
    "unique_to_train_set_cust_pay_terms = [\n",
    "    x for x in train.cust_payment_terms.unique() if x not in test.cust_payment_terms.unique()\n",
    "]\n",
    "\n",
    "print(\"unique_to_train_set_bussuiness_code\",len(unique_to_train_set_bussuiness_code))\n",
    "\n",
    "print(\"unique_to_train_set_cust_pay_terms \",len(unique_to_train_set_cust_pay_terms))\n"
   ]
  },
  {
   "cell_type": "code",
   "execution_count": null,
   "metadata": {},
   "outputs": [],
   "source": [
    "# Let's find out labels present only in the test set\n",
    "\n",
    "unique_to_test_set_bussuiness_code= [\n",
    "    x for x in test.business_code.unique() if x not in train.business_code.unique()\n",
    "]\n",
    "unique_to_test_set_cust_pay_terms = [\n",
    "    x for x in train.cust_payment_terms.unique() if x not in test.cust_payment_terms.unique()\n",
    "]\n",
    "\n",
    "print(len(unique_to_test_set_bussuiness_code))\n",
    "\n",
    "print(len(unique_to_test_set_cust_pay_terms))\n",
    "\n"
   ]
  },
  {
   "cell_type": "code",
   "execution_count": null,
   "metadata": {},
   "outputs": [],
   "source": [
    "print(test.shape)\n",
    "print(train.shape)\n",
    "print(val1.shape)\n",
    "print(val2.shape)"
   ]
  },
  {
   "cell_type": "code",
   "execution_count": null,
   "metadata": {},
   "outputs": [],
   "source": [
    "map_bcode_a = train.groupby('business_code')['total_open_amount'].agg('mean')\n",
    "print(map_bcode_a)\n",
    "train['bcode_total_open_amount_avg'] = train['business_code'].map(map_bcode_a)"
   ]
  },
  {
   "cell_type": "code",
   "execution_count": null,
   "metadata": {},
   "outputs": [],
   "source": [
    "map_bcode_d = train.groupby('business_code')['delay'].agg('mean')\n",
    "train['bcode_delay_avg'] = train['business_code'].map(map_bcode_d)"
   ]
  },
  {
   "cell_type": "code",
   "execution_count": null,
   "metadata": {},
   "outputs": [],
   "source": [
    "map_cust_p_a = train.groupby('cust_payment_terms')['total_open_amount'].agg('mean')\n",
    "train['cust_pay_total_open_amount_avg'] = train['cust_payment_terms'].map(map_cust_p_a)"
   ]
  },
  {
   "cell_type": "code",
   "execution_count": null,
   "metadata": {},
   "outputs": [],
   "source": [
    "map_cust_p_d = train.groupby('cust_payment_terms')['delay'].agg('mean')\n",
    "train['cust_pay_delay_avg'] = train['cust_payment_terms'].map(map_cust_p_d)"
   ]
  },
  {
   "cell_type": "code",
   "execution_count": null,
   "metadata": {},
   "outputs": [],
   "source": [
    "map_cust_no_a = train.groupby('cust_number')['total_open_amount'].agg('mean')\n",
    "train['cust_no_total_open_amount_avg'] = train['cust_number'].map(map_cust_no_a)"
   ]
  },
  {
   "cell_type": "code",
   "execution_count": null,
   "metadata": {},
   "outputs": [],
   "source": [
    "map_cust_no_d = train.groupby('cust_number')['delay'].agg('mean')\n",
    "train['cust_no_delay_avg'] = train['cust_number'].map(map_cust_no_d)"
   ]
  },
  {
   "cell_type": "code",
   "execution_count": null,
   "metadata": {},
   "outputs": [],
   "source": [
    "train[\"early_payments\"]=np.where(train['delay']<0,1,0)"
   ]
  },
  {
   "cell_type": "code",
   "execution_count": null,
   "metadata": {
    "scrolled": false
   },
   "outputs": [],
   "source": [
    "plt.figure(figsize=(14,10))\n",
    "corr = train.corr()# plot the heatmap\n",
    "sns.heatmap(corr, xticklabels=corr.columns, yticklabels=corr.columns, annot=True, cmap=sns.diverging_palette(220, 20, as_cmap=True))"
   ]
  },
  {
   "cell_type": "code",
   "execution_count": null,
   "metadata": {},
   "outputs": [],
   "source": [
    "train"
   ]
  },
  {
   "cell_type": "code",
   "execution_count": null,
   "metadata": {},
   "outputs": [],
   "source": [
    "train['cust_number'].nunique()"
   ]
  },
  {
   "cell_type": "markdown",
   "metadata": {},
   "source": [
    "Correlation is a statistical measure that expresses the extent to which two variables are linearly related (meaning they change together at a constant rate). It’s a common tool for describing simple relationships without making a statement about cause and effect."
   ]
  },
  {
   "cell_type": "code",
   "execution_count": null,
   "metadata": {},
   "outputs": [],
   "source": [
    "def correlation(dataset, threshold):\n",
    "    col_corr = set()  # Set of all the names of correlated columns\n",
    "    corr_matrix = dataset.corr()\n",
    "    for i in range(len(corr_matrix.columns)):\n",
    "        for j in range(i):\n",
    "            if abs(corr_matrix.iloc[i, j]) > threshold: # we are interested in absolute coeff value\n",
    "                colname = corr_matrix.columns[i]  # getting the name of column\n",
    "                col_corr.add(colname)\n",
    "    return col_corr"
   ]
  },
  {
   "cell_type": "code",
   "execution_count": null,
   "metadata": {},
   "outputs": [],
   "source": [
    "corr_features = correlation(train, 0.7)\n",
    "len(set(corr_features))\n",
    "print(corr_features)"
   ]
  },
  {
   "cell_type": "markdown",
   "metadata": {},
   "source": [
    "We can see that there is positive correlation features between  are customer number and delay "
   ]
  },
  {
   "cell_type": "code",
   "execution_count": null,
   "metadata": {},
   "outputs": [],
   "source": [
    "train.head()"
   ]
  },
  {
   "cell_type": "markdown",
   "metadata": {},
   "source": [
    "** Import Linear Regression **"
   ]
  },
  {
   "cell_type": "code",
   "execution_count": null,
   "metadata": {},
   "outputs": [],
   "source": [
    "from sklearn.linear_model import LinearRegression\n",
    "from sklearn.model_selection import train_test_split\n",
    "import numpy as np"
   ]
  },
  {
   "cell_type": "markdown",
   "metadata": {},
   "source": [
    "**Mapping train feature selction variable with train, val1 , val2 and test**"
   ]
  },
  {
   "cell_type": "code",
   "execution_count": null,
   "metadata": {},
   "outputs": [],
   "source": [
    "cols_used = {'business_code': 'bcode_delay_avg','cust_payment_terms':'cust_pay_delay_avg', \n",
    "             'cust_number':'cust_no_delay_avg'}\n",
    "\n",
    "for i in cols_used:\n",
    "    mapper=train.groupby(train[i])['delay'].mean().to_dict()\n",
    "    train[cols_used[i]] = train[i].map(mapper)\n",
    "    val1[cols_used[i]] = val1[i].map(mapper)\n",
    "    val2[cols_used[i]] = val2[i].map(mapper)\n",
    "    test[cols_used[i]] = test[i].map(mapper)\n",
    "train.head()"
   ]
  },
  {
   "cell_type": "markdown",
   "metadata": {},
   "source": [
    "We  found cust_pay_delay_avg and cust_no_delay_avg have some NULL value."
   ]
  },
  {
   "cell_type": "code",
   "execution_count": null,
   "metadata": {},
   "outputs": [],
   "source": [
    "print(val1.isna().any())\n",
    "list_of_nulls=['cust_pay_delay_avg','cust_no_delay_avg']\n",
    "list_of_nulls=[]\n",
    "for i in list_of_nulls:\n",
    "    indices=val1.loc[val1[i].isna()].index\n",
    "    val1.drop(indices,axis=0,inplace=True)\n",
    "val1.head()\n"
   ]
  },
  {
   "cell_type": "markdown",
   "metadata": {},
   "source": [
    "Correction of NULL values of data in cust_pay_delay_avg and cust_no_delay_avg "
   ]
  },
  {
   "cell_type": "code",
   "execution_count": null,
   "metadata": {},
   "outputs": [],
   "source": [
    "val1['cust_pay_delay_avg'] = val1[val1['cust_pay_delay_avg'].notnull()]  \n",
    "val1['cust_no_delay_avg'] = val1[val1['cust_no_delay_avg'].notnull()]\n",
    "print(val1.isna().any())"
   ]
  },
  {
   "cell_type": "markdown",
   "metadata": {},
   "source": [
    "We found cust_pay_delay_avg and cust_no_delay_avg have some NULL value same as Val1"
   ]
  },
  {
   "cell_type": "code",
   "execution_count": null,
   "metadata": {},
   "outputs": [],
   "source": [
    "print(val2.isna().any())\n",
    "list_of_nulls=['cust_pay_delay_avg','cust_no_delay_avg']\n",
    "for i in list_of_nulls:\n",
    "    indices=val2.loc[val2[i].isna()].index\n",
    "    val2.drop(indices,axis=0,inplace=True)\n"
   ]
  },
  {
   "cell_type": "markdown",
   "metadata": {},
   "source": [
    "Correction of NULL values of data in cust_pay_delay_avg and cust_no_delay_avg"
   ]
  },
  {
   "cell_type": "code",
   "execution_count": null,
   "metadata": {},
   "outputs": [],
   "source": [
    "val2['cust_pay_delay_avg'] = val2[val2['cust_pay_delay_avg'].notnull()]  \n",
    "val2['cust_no_delay_avg'] = val2[val2['cust_no_delay_avg'].notnull()]\n",
    "print(val2.isna().any())"
   ]
  },
  {
   "cell_type": "markdown",
   "metadata": {},
   "source": [
    "Creating varaible .fit() and .predict() parameter "
   ]
  },
  {
   "cell_type": "code",
   "execution_count": null,
   "metadata": {},
   "outputs": [],
   "source": [
    "list1 = ['cust_pay_delay_avg','cust_no_delay_avg']\n",
    "X_train = train[list1]\n",
    "X_val1 = val1[list1]\n",
    "X_val2 = val2[list1]\n",
    "d =['delay']\n",
    "Y_train = train[d]\n",
    "Y_val1 = val1[d]\n",
    "Y_val2 = val2[d]"
   ]
  },
  {
   "cell_type": "code",
   "execution_count": null,
   "metadata": {},
   "outputs": [],
   "source": [
    "import pandas as pd\n",
    "import numpy as np\n",
    "from sklearn.model_selection import train_test_split\n",
    "\n",
    "# Modeling & Accuracy Metrics\n",
    "from sklearn.linear_model import LinearRegression\n",
    "from sklearn.svm import SVR\n",
    "from sklearn.tree import DecisionTreeRegressor\n",
    "from sklearn.ensemble import RandomForestRegressor\n",
    "from sklearn.datasets import load_boston\n",
    "from sklearn.metrics import mean_squared_error\n",
    "from sklearn.metrics import r2_score"
   ]
  },
  {
   "cell_type": "code",
   "execution_count": null,
   "metadata": {},
   "outputs": [],
   "source": []
  },
  {
   "cell_type": "code",
   "execution_count": null,
   "metadata": {},
   "outputs": [],
   "source": [
    "Y_train.head()\n",
    "Y_train.info()"
   ]
  },
  {
   "cell_type": "code",
   "execution_count": null,
   "metadata": {},
   "outputs": [],
   "source": [
    "MSE = []\n",
    "R2_Score =[]\n",
    "Algorithm = []"
   ]
  },
  {
   "cell_type": "code",
   "execution_count": null,
   "metadata": {},
   "outputs": [],
   "source": [
    "import pandas as pd\n",
    "import numpy as np\n",
    "from sklearn.model_selection import train_test_split\n",
    "\n",
    "# Modeling & Accuracy Metrics\n",
    "from sklearn.linear_model import LinearRegression\n",
    "from sklearn.svm import SVR\n",
    "from sklearn.tree import DecisionTreeRegressor\n",
    "from sklearn.ensemble import RandomForestRegressor\n",
    "from sklearn.datasets import load_boston\n",
    "from sklearn.metrics import mean_squared_error\n",
    "from sklearn.metrics import r2_score"
   ]
  },
  {
   "cell_type": "markdown",
   "metadata": {},
   "source": [
    "# Trying to Resolve Error"
   ]
  },
  {
   "cell_type": "code",
   "execution_count": null,
   "metadata": {},
   "outputs": [],
   "source": [
    "# Fitting Simple Linear Regression to the Training Set\n",
    "Algorithm.append('Linear Regression')\n",
    "clf = LinearRegression()\n",
    "clf.fit(X_train, Y_train)\n",
    " # Error : could not convert string to float: 'U001'\n",
    "predicted = clf.predict(X_val1)"
   ]
  },
  {
   "cell_type": "code",
   "execution_count": null,
   "metadata": {},
   "outputs": [],
   "source": [
    "X_train.info()\n",
    "X_train.head(10)"
   ]
  },
  {
   "cell_type": "markdown",
   "metadata": {},
   "source": [
    "train has float value "
   ]
  },
  {
   "cell_type": "code",
   "execution_count": null,
   "metadata": {},
   "outputs": [],
   "source": [
    "Y_train.info()\n",
    "Y_train.head(10)"
   ]
  },
  {
   "cell_type": "markdown",
   "metadata": {},
   "source": [
    "# val1 and val2 has object value. This is Error"
   ]
  },
  {
   "cell_type": "code",
   "execution_count": null,
   "metadata": {},
   "outputs": [],
   "source": [
    "\n",
    "X_val1.info()\n",
    "X_val2.info()\n",
    "X_val2.head()\n"
   ]
  },
  {
   "cell_type": "markdown",
   "metadata": {},
   "source": [
    "# val1 and val2 has object value. This is Error"
   ]
  },
  {
   "cell_type": "code",
   "execution_count": null,
   "metadata": {},
   "outputs": [],
   "source": [
    "Y_val1.info()\n",
    "Y_val2.info()\n",
    "Y_val2.head()"
   ]
  },
  {
   "cell_type": "markdown",
   "metadata": {},
   "source": [
    "# Again, Trying to Resolve Error"
   ]
  },
  {
   "cell_type": "code",
   "execution_count": null,
   "metadata": {},
   "outputs": [],
   "source": [
    "Algorithm.append('Support Vector Regression')\n",
    "clf = SVR()\n",
    "clf.fit(X_train, Y_train)\n",
    "\n",
    "# Predicting the Test Set Results\n",
    "predicted = clf.predict(X_val1)"
   ]
  },
  {
   "cell_type": "code",
   "execution_count": null,
   "metadata": {},
   "outputs": [],
   "source": [
    "\n"
   ]
  },
  {
   "cell_type": "code",
   "execution_count": null,
   "metadata": {},
   "outputs": [],
   "source": []
  },
  {
   "cell_type": "code",
   "execution_count": null,
   "metadata": {},
   "outputs": [],
   "source": []
  },
  {
   "cell_type": "code",
   "execution_count": null,
   "metadata": {},
   "outputs": [],
   "source": []
  }
 ],
 "metadata": {
  "colab": {
   "collapsed_sections": [],
   "name": "Example of Train, Validation and Test split.ipynb",
   "provenance": []
  },
  "kernelspec": {
   "display_name": "Python 3",
   "language": "python",
   "name": "python3"
  },
  "language_info": {
   "codemirror_mode": {
    "name": "ipython",
    "version": 3
   },
   "file_extension": ".py",
   "mimetype": "text/x-python",
   "name": "python",
   "nbconvert_exporter": "python",
   "pygments_lexer": "ipython3",
   "version": "3.8.5"
  }
 },
 "nbformat": 4,
 "nbformat_minor": 1
}
